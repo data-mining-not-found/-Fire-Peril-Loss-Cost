{
 "cells": [
  {
   "cell_type": "code",
   "execution_count": 1,
   "metadata": {},
   "outputs": [],
   "source": [
    "import lightgbm as lgb\n",
    "import numpy as np\n",
    "import pickle\n",
    "import time\n",
    "from sklearn.model_selection import train_test_split"
   ]
  },
  {
   "cell_type": "code",
   "execution_count": 2,
   "metadata": {},
   "outputs": [],
   "source": [
    "def save_pkl(file_dir, data):\n",
    "    f = open(file_dir,\"wb\")\n",
    "    pickle.dump(data, f, protocol=4)\n",
    "    f.close()\n",
    "    \n",
    "def read_pkl(file_dir):\n",
    "    f = open(file_dir,\"rb\")\n",
    "    data = pickle.load(f)\n",
    "    return data"
   ]
  },
  {
   "cell_type": "code",
   "execution_count": 3,
   "metadata": {},
   "outputs": [],
   "source": [
    "X = read_pkl(\"London/X.pkl\")\n",
    "Y_PM25 = read_pkl(\"London/Y_PM25.pkl\")\n",
    "Y_PM10 = read_pkl(\"London/Y_PM10.pkl\")\n",
    "Y_NO2 = read_pkl(\"London/Y_NO2.pkl\")"
   ]
  },
  {
   "cell_type": "code",
   "execution_count": 4,
   "metadata": {},
   "outputs": [
    {
     "data": {
      "text/plain": [
       "numpy.ndarray"
      ]
     },
     "execution_count": 4,
     "metadata": {},
     "output_type": "execute_result"
    }
   ],
   "source": [
    "type(X)"
   ]
  },
  {
   "cell_type": "code",
   "execution_count": 5,
   "metadata": {},
   "outputs": [
    {
     "name": "stdout",
     "output_type": "stream",
     "text": [
      "(10892448, 61) (10892448,) (10892448,) (10892448,)\n"
     ]
    }
   ],
   "source": [
    "print(X.shape,Y_PM25.shape,Y_PM10.shape,Y_NO2.shape)"
   ]
  },
  {
   "cell_type": "code",
   "execution_count": 10,
   "metadata": {},
   "outputs": [
    {
     "data": {
      "text/plain": [
       "108924"
      ]
     },
     "execution_count": 10,
     "metadata": {},
     "output_type": "execute_result"
    }
   ],
   "source": [
    "new_size = int(len(X)/100)\n",
    "new_size"
   ]
  },
  {
   "cell_type": "code",
   "execution_count": 11,
   "metadata": {},
   "outputs": [
    {
     "data": {
      "text/plain": [
       "(108924, 61)"
      ]
     },
     "execution_count": 11,
     "metadata": {},
     "output_type": "execute_result"
    }
   ],
   "source": [
    "X_new = X[-new_size:]\n",
    "X_new.shape"
   ]
  },
  {
   "cell_type": "code",
   "execution_count": 12,
   "metadata": {},
   "outputs": [],
   "source": [
    "Y_PM25_new = Y_PM25[-new_size:]\n",
    "Y_PM10_new = Y_PM10[-new_size:]\n",
    "Y_NO2_new = Y_NO2[-new_size:]"
   ]
  },
  {
   "cell_type": "code",
   "execution_count": 13,
   "metadata": {},
   "outputs": [],
   "source": [
    "# save all of the new X Y into .pkl\n",
    "save_pkl(\"London/X_new.pkl\", X_new)\n",
    "save_pkl(\"London/Y_PM25_new.pkl\", Y_PM25_new)\n",
    "save_pkl(\"London/Y_PM10_new.pkl\", Y_PM10_new)\n",
    "save_pkl(\"London/Y_NO2_new.pkl\", Y_NO2_new)"
   ]
  },
  {
   "cell_type": "code",
   "execution_count": null,
   "metadata": {},
   "outputs": [],
   "source": []
  }
 ],
 "metadata": {
  "kernelspec": {
   "display_name": "img (py36)",
   "language": "python",
   "name": "img"
  },
  "language_info": {
   "codemirror_mode": {
    "name": "ipython",
    "version": 3
   },
   "file_extension": ".py",
   "mimetype": "text/x-python",
   "name": "python",
   "nbconvert_exporter": "python",
   "pygments_lexer": "ipython3",
   "version": "3.6.8"
  }
 },
 "nbformat": 4,
 "nbformat_minor": 2
}
