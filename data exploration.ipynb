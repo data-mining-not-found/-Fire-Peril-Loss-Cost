{
 "cells": [
  {
   "cell_type": "code",
   "execution_count": 1,
   "metadata": {},
   "outputs": [
    {
     "name": "stderr",
     "output_type": "stream",
     "text": [
      "/Users/yulynn/anaconda3/lib/python3.6/site-packages/h5py/__init__.py:36: FutureWarning: Conversion of the second argument of issubdtype from `float` to `np.floating` is deprecated. In future, it will be treated as `np.float64 == np.dtype(float).type`.\n",
      "  from ._conv import register_converters as _register_converters\n",
      "Using TensorFlow backend.\n"
     ]
    },
    {
     "name": "stdout",
     "output_type": "stream",
     "text": [
      "confidence encodeing start...\n"
     ]
    },
    {
     "ename": "FileNotFoundError",
     "evalue": "[Errno 2] No such file or directory: './data/images/'",
     "output_type": "error",
     "traceback": [
      "\u001b[0;31m---------------------------------------------------------------------------\u001b[0m",
      "\u001b[0;31mFileNotFoundError\u001b[0m                         Traceback (most recent call last)",
      "\u001b[0;32m<ipython-input-1-a97d3bdc2c73>\u001b[0m in \u001b[0;36m<module>\u001b[0;34m()\u001b[0m\n\u001b[1;32m      8\u001b[0m \u001b[0mprint\u001b[0m\u001b[0;34m(\u001b[0m\u001b[0;34m'confidence encodeing start...'\u001b[0m\u001b[0;34m)\u001b[0m\u001b[0;34m\u001b[0m\u001b[0m\n\u001b[1;32m      9\u001b[0m \u001b[0;34m\u001b[0m\u001b[0m\n\u001b[0;32m---> 10\u001b[0;31m \u001b[0mimage_files\u001b[0m \u001b[0;34m=\u001b[0m \u001b[0;34m[\u001b[0m\u001b[0mx\u001b[0m\u001b[0;34m.\u001b[0m\u001b[0mpath\u001b[0m \u001b[0;32mfor\u001b[0m \u001b[0mx\u001b[0m \u001b[0;32min\u001b[0m \u001b[0mos\u001b[0m\u001b[0;34m.\u001b[0m\u001b[0mscandir\u001b[0m\u001b[0;34m(\u001b[0m\u001b[0;34m'./data/images/'\u001b[0m\u001b[0;34m)\u001b[0m\u001b[0;34m]\u001b[0m\u001b[0;34m\u001b[0m\u001b[0m\n\u001b[0m\u001b[1;32m     11\u001b[0m \u001b[0minception_model\u001b[0m \u001b[0;34m=\u001b[0m \u001b[0minception_v3\u001b[0m\u001b[0;34m.\u001b[0m\u001b[0mInceptionV3\u001b[0m\u001b[0;34m(\u001b[0m\u001b[0mweights\u001b[0m\u001b[0;34m=\u001b[0m\u001b[0;34m'imagenet'\u001b[0m\u001b[0;34m)\u001b[0m\u001b[0;34m\u001b[0m\u001b[0m\n\u001b[1;32m     12\u001b[0m \u001b[0;34m\u001b[0m\u001b[0m\n",
      "\u001b[0;31mFileNotFoundError\u001b[0m: [Errno 2] No such file or directory: './data/images/'"
     ]
    }
   ],
   "source": [
    "##########提取aq 48小时滑窗##########\n",
    "from datetime import date\n",
    "\n",
    "win = 48  ###窗口长度与预测长度\n",
    "# win = 72\n",
    "# win =  168 ####时间窗口一周\n",
    "for i in tqdm(range(26,65)):  ##训练数据\n",
    "    count = 0\n",
    "    for j in train_frame[i]:\n",
    "        if count >= win:\n",
    "            train_dict[train_frame.index[count]].extend(np.array(train_frame[i][count-win:count]).tolist())\n",
    "            if i == 64:\n",
    "                if date.isoweekday(datetime.strptime(train_frame.index[count], \"%Y-%m-%d %H:%M:%S\")) == 3 or date.isoweekday(datetime.strptime(train_frame.index[count], \"%Y-%m-%d %H:%M:%S\")) == 4: ###要预测的是周末\n",
    "                    train_dict[train_frame.index[count]].extend([1])\n",
    "                else:\n",
    "                    train_dict[train_frame.index[count]].extend([0])\n",
    "                if int(train_frame.index[count].split(' ')[1].split(':')[0]) in [8,9,10,18,19,20]: #####是否为早晚高峰时段（北京转utc时间）\n",
    "                    train_dict[train_frame.index[count]].extend([2])\n",
    "                elif int(train_frame.index[count].split(' ')[1].split(':')[0]) in [0,1,2,3,4,5]:  #######凌晨\n",
    "                    train_dict[train_frame.index[count]].extend([1])\n",
    "                else:\n",
    "                    train_dict[train_frame.index[count]].extend([0])\n",
    "#                 train_dict[train_frame.index[count]].append(int(train_frame.index[count].split(' ')[1].split(':')[0]))\n",
    "        count += 1\n",
    "        \n",
    "for i in tqdm(range(65)):  ##测试数据\n",
    "    count = 0\n",
    "    for j in test_frame[i]:\n",
    "        if count >= win:\n",
    "            test_dict[test_frame.index[count]].extend(np.array(test_frame[i][count-win:count]).tolist())\n",
    "        count += 1"
   ]
  },
  {
   "cell_type": "code",
   "execution_count": null,
   "metadata": {},
   "outputs": [],
   "source": []
  }
 ],
 "metadata": {
  "kernelspec": {
   "display_name": "Python 3",
   "language": "python",
   "name": "python3"
  },
  "language_info": {
   "codemirror_mode": {
    "name": "ipython",
    "version": 3
   },
   "file_extension": ".py",
   "mimetype": "text/x-python",
   "name": "python",
   "nbconvert_exporter": "python",
   "pygments_lexer": "ipython3",
   "version": "3.6.5"
  }
 },
 "nbformat": 4,
 "nbformat_minor": 2
}
