{
 "cells": [
  {
   "cell_type": "code",
   "execution_count": 1,
   "metadata": {},
   "outputs": [
    {
     "name": "stderr",
     "output_type": "stream",
     "text": [
      "Using TensorFlow backend.\n"
     ]
    }
   ],
   "source": [
    "#pip install keras\n",
    "#pip install TensorFlow\n",
    "import numpy as np\n",
    "from sklearn.model_selection import train_test_split\n",
    "from keras.models import Sequential\n",
    "from keras.layers import LSTM, Dense, Dropout, Masking, Embedding\n",
    "from keras.optimizers import SGD"
   ]
  },
  {
   "cell_type": "code",
   "execution_count": 2,
   "metadata": {},
   "outputs": [],
   "source": [
    "X = np.load(\"London/X_s.npy\")#68106,125\n",
    "Y_NO2 = np.load(\"London/Y_NO2_s.npy\")\n",
    "Y_PM10 = np.load(\"London/Y_PM10_s.npy\")\n",
    "Y_PM25 = np.load(\"London/Y_PM25_s.npy\")"
   ]
  },
  {
   "cell_type": "code",
   "execution_count": 3,
   "metadata": {},
   "outputs": [
    {
     "name": "stdout",
     "output_type": "stream",
     "text": [
      "(54412, 125) (13604, 125) (54412,) (13604,)\n"
     ]
    }
   ],
   "source": [
    "train_X_PM25, test_X_PM25, train_Y_PM25, test_Y_PM25 = train_test_split(X, Y_PM25, test_size=0.2, random_state=11)\n",
    "print(train_X_PM25.shape, test_X_PM25.shape, train_Y_PM25.shape, test_Y_PM25.shape)"
   ]
  },
  {
   "cell_type": "code",
   "execution_count": 4,
   "metadata": {},
   "outputs": [],
   "source": [
    "def sigmoid(x, derivative=False):\n",
    "    sigm = 1 / (1 + np.exp(-x))\n",
    "    if derivative:\n",
    "        return sigm * (1. - sigm)\n",
    "    return sigm"
   ]
  },
  {
   "cell_type": "code",
   "execution_count": 5,
   "metadata": {},
   "outputs": [],
   "source": [
    "x_train=sigmoid(train_X_PM25)\n",
    "y_train=sigmoid(train_Y_PM25)\n",
    "x_test=sigmoid(test_X_PM25)\n",
    "y_test=sigmoid(test_Y_PM25)"
   ]
  },
  {
   "cell_type": "code",
   "execution_count": 25,
   "metadata": {},
   "outputs": [],
   "source": [
    "#build the model\n",
    "model = Sequential()\n",
    "# Dense(64) is a fully-connected layer with 64 hidden units.\n",
    "# in the first layer, you must specify the expected input data shape\n",
    "model.add(Dense(64, activation='relu', input_dim=x_train.shape[1]))\n",
    "model.add(Dropout(0.5))\n",
    "model.add(Dense(64, activation='relu'))\n",
    "model.add(Dropout(0.5))\n",
    "model.add(Dense(1, activation='sigmoid'))"
   ]
  },
  {
   "cell_type": "code",
   "execution_count": 29,
   "metadata": {},
   "outputs": [],
   "source": [
    "sgd = SGD(lr=0.01, decay=1e-6, momentum=0.9, nesterov=True)\n",
    "model.compile(loss='binary_crossentropy',\n",
    "              optimizer=sgd,metrics=['accuracy'])"
   ]
  },
  {
   "cell_type": "code",
   "execution_count": 30,
   "metadata": {},
   "outputs": [
    {
     "name": "stdout",
     "output_type": "stream",
     "text": [
      "Epoch 1/20\n",
      "54412/54412 [==============================] - 1s 22us/step - loss: 0.0748 - acc: 0.2844\n",
      "Epoch 2/20\n",
      "54412/54412 [==============================] - 1s 18us/step - loss: 0.0635 - acc: 0.2850\n",
      "Epoch 3/20\n",
      "54412/54412 [==============================] - 1s 17us/step - loss: 0.0612 - acc: 0.2850\n",
      "Epoch 4/20\n",
      "54412/54412 [==============================] - 1s 14us/step - loss: 0.0596 - acc: 0.2850\n",
      "Epoch 5/20\n",
      "54412/54412 [==============================] - 1s 18us/step - loss: 0.0593 - acc: 0.2850\n",
      "Epoch 6/20\n",
      "54412/54412 [==============================] - 1s 18us/step - loss: 0.0578 - acc: 0.2850\n",
      "Epoch 7/20\n",
      "54412/54412 [==============================] - 1s 14us/step - loss: 0.0563 - acc: 0.2850\n",
      "Epoch 8/20\n",
      "54412/54412 [==============================] - 1s 18us/step - loss: 0.0556 - acc: 0.2850\n",
      "Epoch 9/20\n",
      "54412/54412 [==============================] - 1s 18us/step - loss: 0.0547 - acc: 0.2850\n",
      "Epoch 10/20\n",
      "54412/54412 [==============================] - 1s 14us/step - loss: 0.0541 - acc: 0.2850\n",
      "Epoch 11/20\n",
      "54412/54412 [==============================] - 1s 18us/step - loss: 0.0535 - acc: 0.2850: 0s - loss: 0.0525 - a\n",
      "Epoch 12/20\n",
      "54412/54412 [==============================] - 1s 19us/step - loss: 0.0533 - acc: 0.2850\n",
      "Epoch 13/20\n",
      "54412/54412 [==============================] - 1s 14us/step - loss: 0.0529 - acc: 0.2850\n",
      "Epoch 14/20\n",
      "54412/54412 [==============================] - 1s 19us/step - loss: 0.0529 - acc: 0.2850\n",
      "Epoch 15/20\n",
      "54412/54412 [==============================] - 1s 18us/step - loss: 0.0526 - acc: 0.2850\n",
      "Epoch 16/20\n",
      "54412/54412 [==============================] - 1s 14us/step - loss: 0.0523 - acc: 0.2850\n",
      "Epoch 17/20\n",
      "54412/54412 [==============================] - 1s 18us/step - loss: 0.0524 - acc: 0.2850\n",
      "Epoch 18/20\n",
      "54412/54412 [==============================] - 1s 19us/step - loss: 0.0520 - acc: 0.2850\n",
      "Epoch 19/20\n",
      "54412/54412 [==============================] - 1s 14us/step - loss: 0.0520 - acc: 0.2850\n",
      "Epoch 20/20\n",
      "54412/54412 [==============================] - 1s 18us/step - loss: 0.0518 - acc: 0.2850\n"
     ]
    },
    {
     "data": {
      "text/plain": [
       "<keras.callbacks.History at 0x1b5d0e77748>"
      ]
     },
     "execution_count": 30,
     "metadata": {},
     "output_type": "execute_result"
    }
   ],
   "source": [
    "#train the model\n",
    "model.fit(x_train, y_train,\n",
    "          epochs=20,\n",
    "          batch_size=128)"
   ]
  },
  {
   "cell_type": "code",
   "execution_count": 31,
   "metadata": {},
   "outputs": [
    {
     "name": "stdout",
     "output_type": "stream",
     "text": [
      "13604/13604 [==============================] - 0s 30us/step\n",
      "[0.0480713133328594, 0.290135254372011]\n"
     ]
    }
   ],
   "source": [
    "score = model.evaluate(x_test, y_test, batch_size=128)\n",
    "print(score)"
   ]
  },
  {
   "cell_type": "code",
   "execution_count": 32,
   "metadata": {},
   "outputs": [],
   "source": [
    "# calculate the symmetric mean absolute percentage error (SMAPE)\n",
    "def get_score(pred, valid_y_exp):\n",
    "    return np.mean(np.abs(pred - valid_y_exp) / (pred + valid_y_exp) * 2)"
   ]
  },
  {
   "cell_type": "code",
   "execution_count": 35,
   "metadata": {},
   "outputs": [
    {
     "name": "stdout",
     "output_type": "stream",
     "text": [
      "0.01739510269726373\n"
     ]
    }
   ],
   "source": [
    "y_pre=model.predict(x_test)\n",
    "score=get_score(y_pre,y_test)\n",
    "print(score)"
   ]
  },
  {
   "cell_type": "code",
   "execution_count": null,
   "metadata": {},
   "outputs": [],
   "source": []
  }
 ],
 "metadata": {
  "kernelspec": {
   "display_name": "Python 3",
   "language": "python",
   "name": "python3"
  },
  "language_info": {
   "codemirror_mode": {
    "name": "ipython",
    "version": 3
   },
   "file_extension": ".py",
   "mimetype": "text/x-python",
   "name": "python",
   "nbconvert_exporter": "python",
   "pygments_lexer": "ipython3",
   "version": "3.7.3"
  }
 },
 "nbformat": 4,
 "nbformat_minor": 2
}
