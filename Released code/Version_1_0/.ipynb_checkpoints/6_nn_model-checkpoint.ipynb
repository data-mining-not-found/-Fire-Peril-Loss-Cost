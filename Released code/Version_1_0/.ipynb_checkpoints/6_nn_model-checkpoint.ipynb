{
 "cells": [
  {
   "cell_type": "code",
   "execution_count": null,
   "metadata": {},
   "outputs": [],
   "source": [
    "#pip install keras\n",
    "#pip install TensorFlow\n",
    "import numpy as np\n",
    "from sklearn.model_selection import train_test_split\n",
    "from keras.models import Sequential\n",
    "from keras.layers import LSTM, Dense, Dropout, Masking, Embedding\n",
    "from keras.optimizers import SGD"
   ]
  },
  {
   "cell_type": "code",
   "execution_count": 5,
   "metadata": {},
   "outputs": [],
   "source": [
    "X = np.load(\"London/X_s.npy\")#68106,125\n",
    "Y_NO2 = np.load(\"London/Y_NO2_s.npy\")\n",
    "Y_PM10 = np.load(\"London/Y_PM10_s.npy\")\n",
    "Y_PM25 = np.load(\"London/Y_PM25_s.npy\")"
   ]
  },
  {
   "cell_type": "code",
   "execution_count": 6,
   "metadata": {},
   "outputs": [
    {
     "name": "stdout",
     "output_type": "stream",
     "text": [
      "(54412, 125) (13604, 125) (54412,) (13604,)\n"
     ]
    }
   ],
   "source": [
    "train_X_PM25, test_X_PM25, train_Y_PM25, test_Y_PM25 = train_test_split(X, Y_PM25, test_size=0.2, random_state=11)\n",
    "print(train_X_PM25.shape, test_X_PM25.shape, train_Y_PM25.shape, test_Y_PM25.shape)"
   ]
  },
  {
   "cell_type": "code",
   "execution_count": 7,
   "metadata": {},
   "outputs": [],
   "source": [
    "def sigmoid(x, derivative=False):\n",
    "    sigm = 1 / (1 + np.exp(-x))\n",
    "    if derivative:\n",
    "        return sigm * (1. - sigm)\n",
    "    return sigm"
   ]
  },
  {
   "cell_type": "code",
   "execution_count": 8,
   "metadata": {},
   "outputs": [],
   "source": [
    "x_train=sigmoid(train_X_PM25)\n",
    "y_train=sigmoid(train_Y_PM25)\n",
    "x_test=sigmoid(test_X_PM25)\n",
    "y_test=sigmoid(test_Y_PM25)"
   ]
  },
  {
   "cell_type": "code",
   "execution_count": 9,
   "metadata": {},
   "outputs": [
    {
     "name": "stdout",
     "output_type": "stream",
     "text": [
      "WARNING:tensorflow:From D:\\Anaconda3\\lib\\site-packages\\tensorflow\\python\\framework\\op_def_library.py:263: colocate_with (from tensorflow.python.framework.ops) is deprecated and will be removed in a future version.\n",
      "Instructions for updating:\n",
      "Colocations handled automatically by placer.\n",
      "WARNING:tensorflow:From D:\\Anaconda3\\lib\\site-packages\\keras\\backend\\tensorflow_backend.py:3445: calling dropout (from tensorflow.python.ops.nn_ops) with keep_prob is deprecated and will be removed in a future version.\n",
      "Instructions for updating:\n",
      "Please use `rate` instead of `keep_prob`. Rate should be set to `rate = 1 - keep_prob`.\n"
     ]
    }
   ],
   "source": [
    "#build the model\n",
    "model = Sequential()\n",
    "# Dense(64) is a fully-connected layer with 64 hidden units.\n",
    "# in the first layer, you must specify the expected input data shape\n",
    "model.add(Dense(64, activation='relu', input_dim=x_train.shape[1]))\n",
    "model.add(Dropout(0.5))\n",
    "model.add(Dense(64, activation='relu'))\n",
    "model.add(Dropout(0.5))\n",
    "model.add(Dense(10, activation='softmax'))"
   ]
  },
  {
   "cell_type": "code",
   "execution_count": 10,
   "metadata": {},
   "outputs": [],
   "source": [
    "sgd = SGD(lr=0.01, decay=1e-6, momentum=0.9, nesterov=True)\n",
    "model.compile(loss='sparse_categorical_crossentropy',\n",
    "              optimizer=sgd,\n",
    "              metrics=['accuracy'])"
   ]
  },
  {
   "cell_type": "code",
   "execution_count": 11,
   "metadata": {},
   "outputs": [
    {
     "name": "stdout",
     "output_type": "stream",
     "text": [
      "WARNING:tensorflow:From D:\\Anaconda3\\lib\\site-packages\\tensorflow\\python\\ops\\math_ops.py:3066: to_int32 (from tensorflow.python.ops.math_ops) is deprecated and will be removed in a future version.\n",
      "Instructions for updating:\n",
      "Use tf.cast instead.\n",
      "Epoch 1/20\n",
      "54412/54412 [==============================] - 1s 25us/step - loss: 0.6391 - acc: 0.0037\n",
      "Epoch 2/20\n",
      "54412/54412 [==============================] - 1s 18us/step - loss: 0.6004 - acc: 4.4108e-04\n",
      "Epoch 3/20\n",
      "54412/54412 [==============================] - 1s 16us/step - loss: 0.5822 - acc: 0.0098\n",
      "Epoch 4/20\n",
      "54412/54412 [==============================] - 1s 17us/step - loss: 0.5653 - acc: 0.0343\n",
      "Epoch 5/20\n",
      "54412/54412 [==============================] - 1s 19us/step - loss: 0.5535 - acc: 0.0498\n",
      "Epoch 6/20\n",
      "54412/54412 [==============================] - 1s 18us/step - loss: 0.5490 - acc: 0.0618\n",
      "Epoch 7/20\n",
      "54412/54412 [==============================] - 1s 17us/step - loss: 0.5489 - acc: 0.0640\n",
      "Epoch 8/20\n",
      "54412/54412 [==============================] - 1s 19us/step - loss: 0.5525 - acc: 0.0555\n",
      "Epoch 9/20\n",
      "54412/54412 [==============================] - 1s 19us/step - loss: 0.5544 - acc: 0.0368\n",
      "Epoch 10/20\n",
      "54412/54412 [==============================] - 1s 15us/step - loss: 0.5506 - acc: 0.0464\n",
      "Epoch 11/20\n",
      "54412/54412 [==============================] - 1s 20us/step - loss: 0.5506 - acc: 0.0469\n",
      "Epoch 12/20\n",
      "54412/54412 [==============================] - 1s 20us/step - loss: 0.5483 - acc: 0.0528\n",
      "Epoch 13/20\n",
      "54412/54412 [==============================] - 1s 15us/step - loss: 0.5491 - acc: 0.0525\n",
      "Epoch 14/20\n",
      "54412/54412 [==============================] - 1s 20us/step - loss: 0.5462 - acc: 0.0570\n",
      "Epoch 15/20\n",
      "54412/54412 [==============================] - 1s 20us/step - loss: 0.5446 - acc: 0.0631\n",
      "Epoch 16/20\n",
      "54412/54412 [==============================] - 1s 19us/step - loss: 0.5468 - acc: 0.0581\n",
      "Epoch 17/20\n",
      "54412/54412 [==============================] - 1s 16us/step - loss: 0.5514 - acc: 0.0368\n",
      "Epoch 18/20\n",
      "54412/54412 [==============================] - 1s 19us/step - loss: 0.5508 - acc: 0.0384\n",
      "Epoch 19/20\n",
      "54412/54412 [==============================] - 1s 20us/step - loss: 0.5518 - acc: 0.0396\n",
      "Epoch 20/20\n",
      "54412/54412 [==============================] - 1s 19us/step - loss: 0.5500 - acc: 0.0397\n"
     ]
    },
    {
     "data": {
      "text/plain": [
       "<keras.callbacks.History at 0x1e78e0d1828>"
      ]
     },
     "execution_count": 11,
     "metadata": {},
     "output_type": "execute_result"
    }
   ],
   "source": [
    "#train the model\n",
    "model.fit(x_train, y_train,\n",
    "          epochs=20,\n",
    "          batch_size=128)"
   ]
  },
  {
   "cell_type": "code",
   "execution_count": 12,
   "metadata": {},
   "outputs": [
    {
     "name": "stdout",
     "output_type": "stream",
     "text": [
      "13604/13604 [==============================] - 0s 14us/step\n",
      "[0.5506291277301343, 0.0]\n"
     ]
    }
   ],
   "source": [
    "score = model.evaluate(x_test, y_test, batch_size=128)\n",
    "print(score)"
   ]
  },
  {
   "cell_type": "code",
   "execution_count": null,
   "metadata": {},
   "outputs": [],
   "source": []
  }
 ],
 "metadata": {
  "kernelspec": {
   "display_name": "Python 3",
   "language": "python",
   "name": "python3"
  },
  "language_info": {
   "codemirror_mode": {
    "name": "ipython",
    "version": 3
   },
   "file_extension": ".py",
   "mimetype": "text/x-python",
   "name": "python",
   "nbconvert_exporter": "python",
   "pygments_lexer": "ipython3",
   "version": "3.7.3"
  }
 },
 "nbformat": 4,
 "nbformat_minor": 2
}
