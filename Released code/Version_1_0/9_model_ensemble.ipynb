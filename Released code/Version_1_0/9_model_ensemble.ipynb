{
 "cells": [
  {
   "cell_type": "code",
   "execution_count": null,
   "metadata": {},
   "outputs": [],
   "source": [
    "from sklearn.linear_model import LinearRegression\n",
    "import datetime\n",
    "import warnings\n",
    "import numpy as np\n",
    "import pandas as pd\n",
    "import seaborn as sns\n",
    "import matplotlib.pyplot as plt\n",
    "from sklearn.preprocessing import StandardScaler, MinMaxScaler\n",
    "%matplotlib inline"
   ]
  },
  {
   "cell_type": "code",
   "execution_count": null,
   "metadata": {},
   "outputs": [],
   "source": [
    "# to-do-list: comparing different models"
   ]
  },
  {
   "cell_type": "code",
   "execution_count": null,
   "metadata": {},
   "outputs": [],
   "source": [
    "# to-do-list: model selection for different features"
   ]
  },
  {
   "cell_type": "markdown",
   "metadata": {},
   "source": [
    "# Create new datasets with the predictions from first level models."
   ]
  },
  {
   "cell_type": "code",
   "execution_count": null,
   "metadata": {},
   "outputs": [],
   "source": [
    "# to-do-list: model ensemble\n",
    "#Ensembling\n",
    "#To combine the 1st level model predictions,use a simple linear regression.\n",
    "#feeding the model with predictions&don't need a complex model\n",
    "#1st level: XGboost,lightbgm,linear regression\n",
    "#2st level: Linear Regression\n",
    "# Dataset that will be the train set of the ensemble model.\n",
    "first_level = pd.DataFrame(lightgbm_val_pred, columns=['lightgbm'])\n",
    "first_level['xgb'] = xgb_val_pred\n",
    "first_level['linear_regression'] = lr_val_pred\n",
    "first_level['label'] = Y_validation.values\n",
    "first_level.head(20)"
   ]
  },
  {
   "cell_type": "code",
   "execution_count": null,
   "metadata": {},
   "outputs": [],
   "source": [
    "# Dataset that will be the test set of the ensemble model.\n",
    "first_level_test = pd.DataFrame(lightgbm_test_pred, columns=['lightgbm'])\n",
    "first_level_test['xgb'] = xgb_test_pred\n",
    "first_level_test['linear_regression'] = lr_test_pred\n",
    "first_level_test.head()"
   ]
  },
  {
   "cell_type": "markdown",
   "metadata": {},
   "source": [
    "# 2nd level model as a linear regression/or others"
   ]
  },
  {
   "cell_type": "code",
   "execution_count": null,
   "metadata": {},
   "outputs": [],
   "source": [
    "meta_model = LinearRegression(n_jobs=-1)\n",
    "first_level.drop('label', axis=1, inplace=True)\n",
    "meta_model.fit(first_level, Y_validation)\n",
    "#make predictions on test set using 1st level models predictions as feature\n",
    "ensemble_pred = meta_model.predict(first_level)\n",
    "final_predictions = meta_model.predict(first_level_test)"
   ]
  },
  {
   "cell_type": "code",
   "execution_count": null,
   "metadata": {},
   "outputs": [],
   "source": [
    "print('Train smape:', np.mean(np.abs(y_true - y_pred) / (y_true + y_pred) * 2))"
   ]
  }
 ],
 "metadata": {
  "kernelspec": {
   "display_name": "Python 3",
   "language": "python",
   "name": "python3"
  },
  "language_info": {
   "codemirror_mode": {
    "name": "ipython",
    "version": 3
   },
   "file_extension": ".py",
   "mimetype": "text/x-python",
   "name": "python",
   "nbconvert_exporter": "python",
   "pygments_lexer": "ipython3",
   "version": "3.6.8"
  }
 },
 "nbformat": 4,
 "nbformat_minor": 2
}
