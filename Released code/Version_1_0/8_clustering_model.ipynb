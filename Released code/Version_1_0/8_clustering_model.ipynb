{
 "cells": [
  {
   "cell_type": "code",
   "execution_count": 5,
   "metadata": {},
   "outputs": [],
   "source": [
    "import datetime\n",
    "import warnings\n",
    "import numpy as np\n",
    "import pandas as pd\n",
    "import seaborn as sns\n",
    "import matplotlib.pyplot as plt\n",
    "from xgboost import plot_importance\n",
    "from sklearn.metrics import mean_squared_error\n",
    "from sklearn.neighbors import KNeighborsRegressor\n",
    "from sklearn.preprocessing import StandardScaler, MinMaxScaler\n",
    "from sklearn.model_selection import train_test_split, GridSearchCV, ShuffleSplit\n",
    "\n",
    "%matplotlib inline"
   ]
  },
  {
   "cell_type": "code",
   "execution_count": 2,
   "metadata": {},
   "outputs": [],
   "source": [
    "def save_pkl(file_dir, data):\n",
    "    f = open(file_dir,\"wb\")\n",
    "    pickle.dump(data, f, protocol=4)\n",
    "    f.close()\n",
    "    \n",
    "def read_pkl(file_dir):\n",
    "    f = open(file_dir,\"rb\")\n",
    "    data = pickle.load(f)\n",
    "    return data\n",
    "\n",
    "def mape_error(y_true, y_pred):\n",
    "    return -np.sqrt(np.sum((y_pred - y_true) * (y_pred - y_true)) * 1.0 / y_true.shape[0])\n",
    "\n",
    "def scoring(reg, x, y):\n",
    "    pred = reg.predict(x)\n",
    "    return smape(pred, y)\n",
    "\n",
    "def smape(y_true, y_pred):\n",
    "    return np.mean(np.abs(y_true - y_pred) / (y_true + y_pred) * 2)"
   ]
  },
  {
   "cell_type": "code",
   "execution_count": 3,
   "metadata": {},
   "outputs": [],
   "source": [
    "# load the whole size dataset\n",
    "X = np.load(\"London/X_s.npy\")\n",
    "Y_NO2 = np.load(\"London/Y_NO2_s.npy\")\n",
    "Y_PM10 = np.load(\"London/Y_PM10_s.npy\")\n",
    "Y_PM25 = np.load(\"London/Y_PM25_s.npy\")"
   ]
  },
  {
   "cell_type": "code",
   "execution_count": 6,
   "metadata": {},
   "outputs": [
    {
     "name": "stdout",
     "output_type": "stream",
     "text": [
      "(54412, 125) (13604, 125) (54412,) (13604,)\n"
     ]
    }
   ],
   "source": [
    "# split the Y_PM25, X into training part and testing part\n",
    "train_X_PM25, test_X_PM25, train_Y_PM25, test_Y_PM25 = train_test_split(X, Y_PM25, test_size=0.2, random_state=11)\n",
    "print(train_X_PM25.shape, test_X_PM25.shape, train_Y_PM25.shape, test_Y_PM25.shape)"
   ]
  },
  {
   "cell_type": "code",
   "execution_count": null,
   "metadata": {},
   "outputs": [],
   "source": [
    "knn_scaler = MinMaxScaler()\n",
    "knn_scaler.fit(knn_train)\n",
    "knn_train = knn_scaler.transform(knn_train)\n",
    "knn_val = knn_scaler.transform(knn_val)\n",
    "knn_test = knn_scaler.transform(knn_test)"
   ]
  },
  {
   "cell_type": "code",
   "execution_count": null,
   "metadata": {},
   "outputs": [],
   "source": [
    "knn_model = KNeighborsRegressor(n_neighbors=9, leaf_size=13, n_jobs=-1)\n",
    "knn_model.fit(knn_train, Y_train_sampled)"
   ]
  },
  {
   "cell_type": "code",
   "execution_count": null,
   "metadata": {},
   "outputs": [],
   "source": [
    "knn_train_pred = knn_model.predict(knn_train)\n",
    "knn_val_pred = knn_model.predict(knn_val)\n",
    "knn_test_pred = knn_model.predict(knn_test)"
   ]
  },
  {
   "cell_type": "code",
   "execution_count": null,
   "metadata": {},
   "outputs": [],
   "source": [
    "print('Train smape:', np.mean(np.abs(y_true - y_pred) / (y_true + y_pred) * 2))\n",
    "print('Validation smape:', np.mean(np.abs(y_true - y_pred) / (y_true + y_pred) * 2))"
   ]
  }
 ],
 "metadata": {
  "kernelspec": {
   "display_name": "Python 3",
   "language": "python",
   "name": "python3"
  },
  "language_info": {
   "codemirror_mode": {
    "name": "ipython",
    "version": 3
   },
   "file_extension": ".py",
   "mimetype": "text/x-python",
   "name": "python",
   "nbconvert_exporter": "python",
   "pygments_lexer": "ipython3",
   "version": "3.6.8"
  }
 },
 "nbformat": 4,
 "nbformat_minor": 2
}
