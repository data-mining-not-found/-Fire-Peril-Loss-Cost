{
 "cells": [
  {
   "cell_type": "code",
   "execution_count": 75,
   "metadata": {},
   "outputs": [],
   "source": [
    "import pandas as pd\n",
    "import numpy as np\n",
    "from sklearn.linear_model import LinearRegression\n",
    "from sklearn.model_selection import train_test_split\n",
    "from matplotlib import pyplot as plt\n",
    "import sys\n",
    "import gc\n",
    "import seaborn as sns"
   ]
  },
  {
   "cell_type": "code",
   "execution_count": 76,
   "metadata": {},
   "outputs": [],
   "source": [
    "# load the whole size dataset\n",
    "X = np.load(\"London/X_all.npy\")\n",
    "Y_NO2 = np.load(\"London/Y_NO2_all.npy\")\n",
    "Y_PM10 = np.load(\"London/Y_PM10_all.npy\")\n",
    "Y_PM25 = np.load(\"London/Y_PM25_all.npy\")"
   ]
  },
  {
   "cell_type": "code",
   "execution_count": 77,
   "metadata": {},
   "outputs": [],
   "source": [
    "# calculate the symmetric mean absolute percentage error (SMAPE)\n",
    "def get_score(pred, valid_y_exp):\n",
    "    return np.mean(np.abs(pred - valid_y_exp) / (pred + valid_y_exp) * 2)"
   ]
  },
  {
   "cell_type": "code",
   "execution_count": 78,
   "metadata": {},
   "outputs": [],
   "source": [
    "# PM2.5"
   ]
  },
  {
   "cell_type": "code",
   "execution_count": 79,
   "metadata": {},
   "outputs": [
    {
     "name": "stdout",
     "output_type": "stream",
     "text": [
      "(4325068, 198) (1081268, 198) (4325068,) (1081268,)\n"
     ]
    }
   ],
   "source": [
    "# split the Y_PM25, X into training part and testing part\n",
    "train_X_PM25, test_X_PM25, train_Y_PM25, test_Y_PM25 = train_test_split(X, Y_PM25, test_size=0.2, random_state=11)\n",
    "print(train_X_PM25.shape, test_X_PM25.shape, train_Y_PM25.shape, test_Y_PM25.shape)"
   ]
  },
  {
   "cell_type": "code",
   "execution_count": 80,
   "metadata": {},
   "outputs": [],
   "source": [
    "lrPM25 = LinearRegression().fit(train_X_PM25, train_Y_PM25)"
   ]
  },
  {
   "cell_type": "code",
   "execution_count": 81,
   "metadata": {},
   "outputs": [
    {
     "name": "stdout",
     "output_type": "stream",
     "text": [
      "0.3860404440194889\n"
     ]
    }
   ],
   "source": [
    "test_X = np.load(\"London/X_test.npy\")\n",
    "test_Y_PM25 = np.load(\"London/Y_PM25_test.npy\")\n",
    "predPM25 = lrPM25.predict(test_X)\n",
    "errorPM25=get_score(predPM25,test_Y_PM25)\n",
    "print(errorPM25)"
   ]
  },
  {
   "cell_type": "code",
   "execution_count": null,
   "metadata": {},
   "outputs": [],
   "source": [
    "# PM10"
   ]
  },
  {
   "cell_type": "code",
   "execution_count": 84,
   "metadata": {},
   "outputs": [
    {
     "name": "stdout",
     "output_type": "stream",
     "text": [
      "(4325068, 198) (1081268, 198) (4325068,) (1081268,)\n"
     ]
    }
   ],
   "source": [
    "# split the Y_PM10, X into training part and testing part\n",
    "train_X_PM10, test_X_PM10, train_Y_PM10, test_Y_PM10 = train_test_split(X, Y_PM10, test_size=0.2, random_state=11)\n",
    "print(train_X_PM10.shape, test_X_PM10.shape, train_Y_PM10.shape, test_Y_PM10.shape)"
   ]
  },
  {
   "cell_type": "code",
   "execution_count": 85,
   "metadata": {},
   "outputs": [],
   "source": [
    "lrPM10 = LinearRegression().fit(train_X_PM10, train_Y_PM10)"
   ]
  },
  {
   "cell_type": "code",
   "execution_count": 86,
   "metadata": {},
   "outputs": [
    {
     "name": "stdout",
     "output_type": "stream",
     "text": [
      "0.30444338635778795\n"
     ]
    }
   ],
   "source": [
    "test_X = np.load(\"London/X_test.npy\")\n",
    "test_Y_PM10 = np.load(\"London/Y_PM10_test.npy\")\n",
    "predPM10 = lrPM10.predict(test_X)\n",
    "errorPM10=get_score(predPM10,test_Y_PM10)\n",
    "print(errorPM10)"
   ]
  },
  {
   "cell_type": "code",
   "execution_count": null,
   "metadata": {},
   "outputs": [],
   "source": [
    "# NO2"
   ]
  },
  {
   "cell_type": "code",
   "execution_count": 87,
   "metadata": {},
   "outputs": [
    {
     "name": "stdout",
     "output_type": "stream",
     "text": [
      "(4325068, 198) (1081268, 198) (4325068,) (1081268,)\n"
     ]
    }
   ],
   "source": [
    "# split the Y_NO2, X into training part and testing part\n",
    "train_X_NO2, test_X_NO2, train_Y_NO2, test_Y_NO2 = train_test_split(X, Y_NO2, test_size=0.2, random_state=11)\n",
    "print(train_X_NO2.shape, test_X_NO2.shape, train_Y_NO2.shape, test_Y_NO2.shape)"
   ]
  },
  {
   "cell_type": "code",
   "execution_count": 88,
   "metadata": {},
   "outputs": [],
   "source": [
    "lrNO2 = LinearRegression().fit(train_X_NO2, train_Y_NO2)"
   ]
  },
  {
   "cell_type": "code",
   "execution_count": 89,
   "metadata": {},
   "outputs": [
    {
     "name": "stdout",
     "output_type": "stream",
     "text": [
      "0.2720760878148507\n"
     ]
    }
   ],
   "source": [
    "test_X = np.load(\"London/X_test.npy\")\n",
    "test_Y_NO2 = np.load(\"London/Y_NO2_test.npy\")\n",
    "predNO2 = lrNO2.predict(test_X)\n",
    "errorNO2=get_score(predNO2,test_Y_NO2)\n",
    "print(errorNO2)"
   ]
  }
 ],
 "metadata": {
  "kernelspec": {
   "display_name": "Python 3",
   "language": "python",
   "name": "python3"
  },
  "language_info": {
   "codemirror_mode": {
    "name": "ipython",
    "version": 3
   },
   "file_extension": ".py",
   "mimetype": "text/x-python",
   "name": "python",
   "nbconvert_exporter": "python",
   "pygments_lexer": "ipython3",
   "version": "3.7.0"
  }
 },
 "nbformat": 4,
 "nbformat_minor": 2
}
