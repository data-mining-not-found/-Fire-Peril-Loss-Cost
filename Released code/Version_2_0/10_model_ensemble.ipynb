{
 "cells": [
  {
   "cell_type": "code",
   "execution_count": 8,
   "metadata": {},
   "outputs": [],
   "source": [
    "from sklearn.linear_model import LinearRegression\n",
    "import pickle\n",
    "import datetime\n",
    "import warnings\n",
    "import numpy as np\n",
    "import pandas as pd\n",
    "import seaborn as sns\n",
    "import matplotlib.pyplot as plt\n",
    "from sklearn.preprocessing import StandardScaler, MinMaxScaler\n",
    "from sklearn.model_selection import train_test_split, GridSearchCV, ShuffleSplit\n",
    "%matplotlib inline\n",
    "from xgboost import XGBRegressor\n",
    "from xgboost import plot_importance\n",
    "from sklearn.metrics import mean_squared_error\n",
    "from sklearn.linear_model import LinearRegression\n",
    "from sklearn.neighbors import KNeighborsRegressor"
   ]
  },
  {
   "cell_type": "code",
   "execution_count": 9,
   "metadata": {},
   "outputs": [],
   "source": [
    "def save_pkl(file_dir, data):\n",
    "    f = open(file_dir,\"wb\")\n",
    "    pickle.dump(data, f, protocol=4)\n",
    "    f.close()\n",
    "    \n",
    "def read_pkl(file_dir):\n",
    "    f = open(file_dir,\"rb\")\n",
    "    data = pickle.load(f)\n",
    "    return data\n",
    "\n",
    "def mape_error(y_true, y_pred):\n",
    "    return -np.sqrt(np.sum((y_pred - y_true) * (y_pred - y_true)) * 1.0 / y_true.shape[0])\n",
    "\n",
    "def scoring(reg, x, y):\n",
    "    pred = reg.predict(x)\n",
    "    return smape(pred, y)\n",
    "\n",
    "def smape(y_true, y_pred):\n",
    "    return np.mean(np.abs(y_true - y_pred) / (y_true + y_pred) * 2)\n",
    "\n",
    "def plot_features(booster, figsize):    \n",
    "    fig, ax = plt.subplots(1,1,figsize=figsize)\n",
    "    return plot_importance(booster=booster, ax=ax)\n",
    "\n",
    "def model_performance_sc_plot(predictions, labels, title):\n",
    "    # Get min and max values of the predictions and labels.\n",
    "    min_val = max(max(predictions), max(labels))\n",
    "    max_val = min(min(predictions), min(labels))\n",
    "    # Create dataframe with predicitons and labels.\n",
    "    performance_df = pd.DataFrame({\"Label\":labels})\n",
    "    performance_df[\"Prediction\"] = predictions\n",
    "    # Plot data\n",
    "    sns.jointplot(y=\"Label\", x=\"Prediction\", data=performance_df, kind=\"reg\")\n",
    "    plt.plot([min_val, max_val], [min_val, max_val],'m--')\n",
    "    plt.title(title, fontsize=9)\n",
    "    plt.show()"
   ]
  },
  {
   "cell_type": "code",
   "execution_count": 10,
   "metadata": {},
   "outputs": [
    {
     "name": "stderr",
     "output_type": "stream",
     "text": [
      "/Users/yulynn/anaconda3/lib/python3.6/site-packages/lightgbm/__init__.py:46: UserWarning: Starting from version 2.2.1, the library file in distribution wheels for macOS is built by the Apple Clang (Xcode_9.4.1) compiler.\n",
      "This means that in case of installing LightGBM from PyPI via the ``pip install lightgbm`` command, you don't need to install the gcc compiler anymore.\n",
      "Instead of that, you need to install the OpenMP library, which is required for running LightGBM on the system with the Apple Clang compiler.\n",
      "You can install the OpenMP library by the following command: ``brew install libomp``.\n",
      "  \"You can install the OpenMP library by the following command: ``brew install libomp``.\", UserWarning)\n",
      "/Users/yulynn/anaconda3/lib/python3.6/site-packages/sklearn/base.py:311: UserWarning: Trying to unpickle estimator LinearRegression from version 0.19.2 when using version 0.19.1. This might lead to breaking code or invalid results. Use at your own risk.\n",
      "  UserWarning)\n"
     ]
    }
   ],
   "source": [
    "gbm = read_pkl(\"London/lightgbm_PM25.model\")\n",
    "lr = read_pkl(\"London/LR_PM251.model\")\n",
    "xgb = read_pkl(\"London/xgboost_PM25.model\")"
   ]
  },
  {
   "cell_type": "code",
   "execution_count": 23,
   "metadata": {},
   "outputs": [],
   "source": [
    "# load the whole size dataset\n",
    "X = np.load(\"London/X_test.npy\")\n",
    "Y_PM25 = np.load(\"London/Y_PM25_test.npy\")\n",
    "Y_PM10 = np.load(\"London/Y_PM10_test.npy\")\n",
    "Y_No2 = np.load(\"London/Y_NO2_test.npy\")"
   ]
  },
  {
   "cell_type": "code",
   "execution_count": 24,
   "metadata": {},
   "outputs": [
    {
     "name": "stdout",
     "output_type": "stream",
     "text": [
      "(216652, 198) (54164, 198) (216652,) (54164,)\n"
     ]
    }
   ],
   "source": [
    "# split the Y_PM25, X into training part and testing part\n",
    "train_X_PM10, test_X_PM10, train_Y_PM10, test_Y_PM10 = train_test_split(X, Y_PM10, test_size=0.2, random_state=11)\n",
    "print(train_X_PM10.shape, test_X_PM10.shape, train_Y_PM10.shape, test_Y_PM10.shape)"
   ]
  },
  {
   "cell_type": "code",
   "execution_count": 26,
   "metadata": {},
   "outputs": [
    {
     "name": "stdout",
     "output_type": "stream",
     "text": [
      "(216652, 198) (54164, 198) (216652,) (54164,)\n"
     ]
    }
   ],
   "source": [
    "# split the Y_PM25, X into training part and testing part\n",
    "train_X_NO2, test_X_NO2, train_Y_NO2, test_Y_NO2 = train_test_split(X, Y_No2, test_size=0.2, random_state=11)\n",
    "print(train_X_NO2.shape, test_X_NO2.shape, train_Y_NO2.shape, test_Y_NO2.shape)"
   ]
  },
  {
   "cell_type": "code",
   "execution_count": 12,
   "metadata": {},
   "outputs": [
    {
     "name": "stdout",
     "output_type": "stream",
     "text": [
      "(216652, 198) (54164, 198) (216652,) (54164,)\n"
     ]
    }
   ],
   "source": [
    "# split the Y_PM25, X into training part and testing part\n",
    "train_X_PM25, test_X_PM25, train_Y_PM25, test_Y_PM25 = train_test_split(X, Y_PM25, test_size=0.2, random_state=11)\n",
    "print(train_X_PM25.shape, test_X_PM25.shape, train_Y_PM25.shape, test_Y_PM25.shape)"
   ]
  },
  {
   "cell_type": "markdown",
   "metadata": {},
   "source": [
    "# Ensemble blending get predict result"
   ]
  },
  {
   "cell_type": "code",
   "execution_count": 13,
   "metadata": {},
   "outputs": [],
   "source": [
    "xgb_val_pred=xgb.predict(train_X_PM25)\n",
    "xgb_test_pred=xgb.predict(test_X_PM25)"
   ]
  },
  {
   "cell_type": "code",
   "execution_count": 14,
   "metadata": {},
   "outputs": [],
   "source": [
    "lightgbm_val_pred=gbm.predict(train_X_PM25)\n",
    "lightgbm_test_pred=gbm.predict(test_X_PM25)"
   ]
  },
  {
   "cell_type": "code",
   "execution_count": 15,
   "metadata": {},
   "outputs": [],
   "source": [
    "lr_val_pred=lr.predict(train_X_PM25)\n",
    "lr_test_pred=lr.predict(test_X_PM25)"
   ]
  },
  {
   "cell_type": "markdown",
   "metadata": {},
   "source": [
    "# Create new datasets with the predictions from first level models."
   ]
  },
  {
   "cell_type": "code",
   "execution_count": 16,
   "metadata": {},
   "outputs": [
    {
     "data": {
      "text/html": [
       "<div>\n",
       "<style scoped>\n",
       "    .dataframe tbody tr th:only-of-type {\n",
       "        vertical-align: middle;\n",
       "    }\n",
       "\n",
       "    .dataframe tbody tr th {\n",
       "        vertical-align: top;\n",
       "    }\n",
       "\n",
       "    .dataframe thead th {\n",
       "        text-align: right;\n",
       "    }\n",
       "</style>\n",
       "<table border=\"1\" class=\"dataframe\">\n",
       "  <thead>\n",
       "    <tr style=\"text-align: right;\">\n",
       "      <th></th>\n",
       "      <th>lightgbm</th>\n",
       "      <th>xgb</th>\n",
       "      <th>linear_regression</th>\n",
       "    </tr>\n",
       "  </thead>\n",
       "  <tbody>\n",
       "    <tr>\n",
       "      <th>0</th>\n",
       "      <td>11.657157</td>\n",
       "      <td>19.450005</td>\n",
       "      <td>12.615177</td>\n",
       "    </tr>\n",
       "    <tr>\n",
       "      <th>1</th>\n",
       "      <td>7.678498</td>\n",
       "      <td>9.337333</td>\n",
       "      <td>8.109863</td>\n",
       "    </tr>\n",
       "    <tr>\n",
       "      <th>2</th>\n",
       "      <td>9.225338</td>\n",
       "      <td>8.898109</td>\n",
       "      <td>10.997403</td>\n",
       "    </tr>\n",
       "    <tr>\n",
       "      <th>3</th>\n",
       "      <td>6.698435</td>\n",
       "      <td>10.503695</td>\n",
       "      <td>5.357722</td>\n",
       "    </tr>\n",
       "    <tr>\n",
       "      <th>4</th>\n",
       "      <td>7.045057</td>\n",
       "      <td>10.534971</td>\n",
       "      <td>5.736983</td>\n",
       "    </tr>\n",
       "    <tr>\n",
       "      <th>5</th>\n",
       "      <td>16.657346</td>\n",
       "      <td>18.440132</td>\n",
       "      <td>19.210831</td>\n",
       "    </tr>\n",
       "    <tr>\n",
       "      <th>6</th>\n",
       "      <td>9.117873</td>\n",
       "      <td>13.280671</td>\n",
       "      <td>9.340655</td>\n",
       "    </tr>\n",
       "    <tr>\n",
       "      <th>7</th>\n",
       "      <td>11.557580</td>\n",
       "      <td>21.794020</td>\n",
       "      <td>11.155716</td>\n",
       "    </tr>\n",
       "    <tr>\n",
       "      <th>8</th>\n",
       "      <td>6.518597</td>\n",
       "      <td>9.468546</td>\n",
       "      <td>3.905649</td>\n",
       "    </tr>\n",
       "    <tr>\n",
       "      <th>9</th>\n",
       "      <td>6.961751</td>\n",
       "      <td>10.781061</td>\n",
       "      <td>6.105017</td>\n",
       "    </tr>\n",
       "    <tr>\n",
       "      <th>10</th>\n",
       "      <td>5.325133</td>\n",
       "      <td>9.376490</td>\n",
       "      <td>3.655279</td>\n",
       "    </tr>\n",
       "    <tr>\n",
       "      <th>11</th>\n",
       "      <td>12.270075</td>\n",
       "      <td>12.064029</td>\n",
       "      <td>13.127453</td>\n",
       "    </tr>\n",
       "    <tr>\n",
       "      <th>12</th>\n",
       "      <td>13.747224</td>\n",
       "      <td>21.648979</td>\n",
       "      <td>13.197994</td>\n",
       "    </tr>\n",
       "    <tr>\n",
       "      <th>13</th>\n",
       "      <td>7.434931</td>\n",
       "      <td>12.192844</td>\n",
       "      <td>4.967514</td>\n",
       "    </tr>\n",
       "    <tr>\n",
       "      <th>14</th>\n",
       "      <td>9.849764</td>\n",
       "      <td>14.638771</td>\n",
       "      <td>7.256124</td>\n",
       "    </tr>\n",
       "    <tr>\n",
       "      <th>15</th>\n",
       "      <td>6.446266</td>\n",
       "      <td>12.905412</td>\n",
       "      <td>5.230508</td>\n",
       "    </tr>\n",
       "    <tr>\n",
       "      <th>16</th>\n",
       "      <td>7.485039</td>\n",
       "      <td>18.159929</td>\n",
       "      <td>7.006919</td>\n",
       "    </tr>\n",
       "    <tr>\n",
       "      <th>17</th>\n",
       "      <td>30.137127</td>\n",
       "      <td>25.451963</td>\n",
       "      <td>31.693348</td>\n",
       "    </tr>\n",
       "    <tr>\n",
       "      <th>18</th>\n",
       "      <td>9.629745</td>\n",
       "      <td>13.813663</td>\n",
       "      <td>9.400805</td>\n",
       "    </tr>\n",
       "    <tr>\n",
       "      <th>19</th>\n",
       "      <td>21.979435</td>\n",
       "      <td>26.079681</td>\n",
       "      <td>27.270598</td>\n",
       "    </tr>\n",
       "  </tbody>\n",
       "</table>\n",
       "</div>"
      ],
      "text/plain": [
       "     lightgbm        xgb  linear_regression\n",
       "0   11.657157  19.450005          12.615177\n",
       "1    7.678498   9.337333           8.109863\n",
       "2    9.225338   8.898109          10.997403\n",
       "3    6.698435  10.503695           5.357722\n",
       "4    7.045057  10.534971           5.736983\n",
       "5   16.657346  18.440132          19.210831\n",
       "6    9.117873  13.280671           9.340655\n",
       "7   11.557580  21.794020          11.155716\n",
       "8    6.518597   9.468546           3.905649\n",
       "9    6.961751  10.781061           6.105017\n",
       "10   5.325133   9.376490           3.655279\n",
       "11  12.270075  12.064029          13.127453\n",
       "12  13.747224  21.648979          13.197994\n",
       "13   7.434931  12.192844           4.967514\n",
       "14   9.849764  14.638771           7.256124\n",
       "15   6.446266  12.905412           5.230508\n",
       "16   7.485039  18.159929           7.006919\n",
       "17  30.137127  25.451963          31.693348\n",
       "18   9.629745  13.813663           9.400805\n",
       "19  21.979435  26.079681          27.270598"
      ]
     },
     "execution_count": 16,
     "metadata": {},
     "output_type": "execute_result"
    }
   ],
   "source": [
    "# to-do-list: model ensemble\n",
    "#Ensembling\n",
    "#To combine the 1st level model predictions,use a simple linear regression.\n",
    "#feeding the model with predictions&don't need a complex model\n",
    "#1st level: XGboost,lightbgm,linear regression\n",
    "#2st level: Linear Regression\n",
    "# Dataset that will be the train set of the ensemble model.\n",
    "first_level = pd.DataFrame(lightgbm_val_pred, columns=['lightgbm'])\n",
    "first_level['xgb'] = xgb_val_pred\n",
    "first_level['linear_regression'] = lr_val_pred\n",
    "#first_level['knn'] = lr_val_pred\n",
    "#first_level['label'] = Y_PM25.values\n",
    "first_level.head(20)"
   ]
  },
  {
   "cell_type": "code",
   "execution_count": 17,
   "metadata": {},
   "outputs": [
    {
     "data": {
      "text/html": [
       "<div>\n",
       "<style scoped>\n",
       "    .dataframe tbody tr th:only-of-type {\n",
       "        vertical-align: middle;\n",
       "    }\n",
       "\n",
       "    .dataframe tbody tr th {\n",
       "        vertical-align: top;\n",
       "    }\n",
       "\n",
       "    .dataframe thead th {\n",
       "        text-align: right;\n",
       "    }\n",
       "</style>\n",
       "<table border=\"1\" class=\"dataframe\">\n",
       "  <thead>\n",
       "    <tr style=\"text-align: right;\">\n",
       "      <th></th>\n",
       "      <th>lightgbm</th>\n",
       "      <th>xgb</th>\n",
       "      <th>linear_regression</th>\n",
       "    </tr>\n",
       "  </thead>\n",
       "  <tbody>\n",
       "    <tr>\n",
       "      <th>0</th>\n",
       "      <td>10.863602</td>\n",
       "      <td>16.267586</td>\n",
       "      <td>10.868811</td>\n",
       "    </tr>\n",
       "    <tr>\n",
       "      <th>1</th>\n",
       "      <td>10.693937</td>\n",
       "      <td>12.573215</td>\n",
       "      <td>11.335568</td>\n",
       "    </tr>\n",
       "    <tr>\n",
       "      <th>2</th>\n",
       "      <td>1.949258</td>\n",
       "      <td>6.792130</td>\n",
       "      <td>-0.802689</td>\n",
       "    </tr>\n",
       "    <tr>\n",
       "      <th>3</th>\n",
       "      <td>6.099091</td>\n",
       "      <td>10.253236</td>\n",
       "      <td>5.340764</td>\n",
       "    </tr>\n",
       "    <tr>\n",
       "      <th>4</th>\n",
       "      <td>7.327809</td>\n",
       "      <td>13.342678</td>\n",
       "      <td>11.539936</td>\n",
       "    </tr>\n",
       "  </tbody>\n",
       "</table>\n",
       "</div>"
      ],
      "text/plain": [
       "    lightgbm        xgb  linear_regression\n",
       "0  10.863602  16.267586          10.868811\n",
       "1  10.693937  12.573215          11.335568\n",
       "2   1.949258   6.792130          -0.802689\n",
       "3   6.099091  10.253236           5.340764\n",
       "4   7.327809  13.342678          11.539936"
      ]
     },
     "execution_count": 17,
     "metadata": {},
     "output_type": "execute_result"
    }
   ],
   "source": [
    "# Dataset that will be the test set of the ensemble model.\n",
    "first_level_test = pd.DataFrame(lightgbm_test_pred, columns=['lightgbm'])\n",
    "first_level_test['xgb'] = xgb_test_pred\n",
    "first_level_test['linear_regression'] = lr_test_pred\n",
    "first_level_test.head()"
   ]
  },
  {
   "cell_type": "markdown",
   "metadata": {},
   "source": [
    "# 2nd level model as a linear regression/or others"
   ]
  },
  {
   "cell_type": "code",
   "execution_count": 4,
   "metadata": {},
   "outputs": [],
   "source": [
    "meta_model = read_pkl(\"London/ensemble_PM25.model\")"
   ]
  },
  {
   "cell_type": "code",
   "execution_count": 18,
   "metadata": {},
   "outputs": [
    {
     "data": {
      "text/plain": [
       "LinearRegression(copy_X=True, fit_intercept=True, n_jobs=-1, normalize=False)"
      ]
     },
     "execution_count": 18,
     "metadata": {},
     "output_type": "execute_result"
    }
   ],
   "source": [
    "meta_model = LinearRegression(n_jobs=-1)\n",
    "#first_level.drop('label', axis=1, inplace=True)\n",
    "meta_model.fit(first_level, train_Y_PM25)"
   ]
  },
  {
   "cell_type": "code",
   "execution_count": 17,
   "metadata": {},
   "outputs": [],
   "source": [
    "save_pkl(\"London/ensemble_PM25.model\", meta_model)"
   ]
  },
  {
   "cell_type": "code",
   "execution_count": 19,
   "metadata": {},
   "outputs": [],
   "source": [
    "ensemble_pred = meta_model.predict(first_level)\n",
    "final_predictions = meta_model.predict(first_level_test)"
   ]
  },
  {
   "cell_type": "code",
   "execution_count": 20,
   "metadata": {},
   "outputs": [
    {
     "name": "stdout",
     "output_type": "stream",
     "text": [
      "Train rmse: 4.192137665511913\n"
     ]
    }
   ],
   "source": [
    "print('Train rmse:', np.sqrt(mean_squared_error(ensemble_pred, train_Y_PM25)))"
   ]
  },
  {
   "cell_type": "code",
   "execution_count": 21,
   "metadata": {},
   "outputs": [
    {
     "name": "stdout",
     "output_type": "stream",
     "text": [
      "test smape: 0.30198895198753567\n"
     ]
    }
   ],
   "source": [
    "print('test smape:', np.mean(np.abs(train_Y_PM25 - ensemble_pred) / (train_Y_PM25 + ensemble_pred) * 2))"
   ]
  },
  {
   "cell_type": "code",
   "execution_count": 22,
   "metadata": {},
   "outputs": [
    {
     "name": "stderr",
     "output_type": "stream",
     "text": [
      "/Users/yulynn/anaconda3/lib/python3.6/site-packages/matplotlib/axes/_axes.py:6462: UserWarning: The 'normed' kwarg is deprecated, and has been replaced by the 'density' kwarg.\n",
      "  warnings.warn(\"The 'normed' kwarg is deprecated, and has been \"\n",
      "/Users/yulynn/anaconda3/lib/python3.6/site-packages/matplotlib/axes/_axes.py:6462: UserWarning: The 'normed' kwarg is deprecated, and has been replaced by the 'density' kwarg.\n",
      "  warnings.warn(\"The 'normed' kwarg is deprecated, and has been \"\n"
     ]
    },
    {
     "data": {
      "image/png": "[encoded data removed]",
      "text/plain": [
       "<Figure size 432x432 with 3 Axes>"
      ]
     },
     "metadata": {},
     "output_type": "display_data"
    }
   ],
   "source": [
    "model_performance_sc_plot(ensemble_pred, train_Y_PM25, 'performance')"
   ]
  },
  {
   "cell_type": "code",
   "execution_count": 27,
   "metadata": {},
   "outputs": [],
   "source": [
    "xgb_val_pred=xgb.predict(train_X_PM10)\n",
    "xgb_test_pred=xgb.predict(test_X_PM10)\n",
    "lightgbm_val_pred=gbm.predict(train_X_PM10)\n",
    "lightgbm_test_pred=gbm.predict(test_X_PM10)\n",
    "lr_val_pred=lr.predict(train_X_PM10)\n",
    "lr_test_pred=lr.predict(test_X_PM10)"
   ]
  },
  {
   "cell_type": "code",
   "execution_count": 28,
   "metadata": {},
   "outputs": [
    {
     "data": {
      "text/html": [
       "<div>\n",
       "<style scoped>\n",
       "    .dataframe tbody tr th:only-of-type {\n",
       "        vertical-align: middle;\n",
       "    }\n",
       "\n",
       "    .dataframe tbody tr th {\n",
       "        vertical-align: top;\n",
       "    }\n",
       "\n",
       "    .dataframe thead th {\n",
       "        text-align: right;\n",
       "    }\n",
       "</style>\n",
       "<table border=\"1\" class=\"dataframe\">\n",
       "  <thead>\n",
       "    <tr style=\"text-align: right;\">\n",
       "      <th></th>\n",
       "      <th>lightgbm</th>\n",
       "      <th>xgb</th>\n",
       "      <th>linear_regression</th>\n",
       "    </tr>\n",
       "  </thead>\n",
       "  <tbody>\n",
       "    <tr>\n",
       "      <th>0</th>\n",
       "      <td>11.657157</td>\n",
       "      <td>19.450005</td>\n",
       "      <td>12.615177</td>\n",
       "    </tr>\n",
       "    <tr>\n",
       "      <th>1</th>\n",
       "      <td>7.678498</td>\n",
       "      <td>9.337333</td>\n",
       "      <td>8.109863</td>\n",
       "    </tr>\n",
       "    <tr>\n",
       "      <th>2</th>\n",
       "      <td>9.225338</td>\n",
       "      <td>8.898109</td>\n",
       "      <td>10.997403</td>\n",
       "    </tr>\n",
       "    <tr>\n",
       "      <th>3</th>\n",
       "      <td>6.698435</td>\n",
       "      <td>10.503695</td>\n",
       "      <td>5.357722</td>\n",
       "    </tr>\n",
       "    <tr>\n",
       "      <th>4</th>\n",
       "      <td>7.045057</td>\n",
       "      <td>10.534971</td>\n",
       "      <td>5.736983</td>\n",
       "    </tr>\n",
       "    <tr>\n",
       "      <th>5</th>\n",
       "      <td>16.657346</td>\n",
       "      <td>18.440132</td>\n",
       "      <td>19.210831</td>\n",
       "    </tr>\n",
       "    <tr>\n",
       "      <th>6</th>\n",
       "      <td>9.117873</td>\n",
       "      <td>13.280671</td>\n",
       "      <td>9.340655</td>\n",
       "    </tr>\n",
       "    <tr>\n",
       "      <th>7</th>\n",
       "      <td>11.557580</td>\n",
       "      <td>21.794020</td>\n",
       "      <td>11.155716</td>\n",
       "    </tr>\n",
       "    <tr>\n",
       "      <th>8</th>\n",
       "      <td>6.518597</td>\n",
       "      <td>9.468546</td>\n",
       "      <td>3.905649</td>\n",
       "    </tr>\n",
       "    <tr>\n",
       "      <th>9</th>\n",
       "      <td>6.961751</td>\n",
       "      <td>10.781061</td>\n",
       "      <td>6.105017</td>\n",
       "    </tr>\n",
       "    <tr>\n",
       "      <th>10</th>\n",
       "      <td>5.325133</td>\n",
       "      <td>9.376490</td>\n",
       "      <td>3.655279</td>\n",
       "    </tr>\n",
       "    <tr>\n",
       "      <th>11</th>\n",
       "      <td>12.270075</td>\n",
       "      <td>12.064029</td>\n",
       "      <td>13.127453</td>\n",
       "    </tr>\n",
       "    <tr>\n",
       "      <th>12</th>\n",
       "      <td>13.747224</td>\n",
       "      <td>21.648979</td>\n",
       "      <td>13.197994</td>\n",
       "    </tr>\n",
       "    <tr>\n",
       "      <th>13</th>\n",
       "      <td>7.434931</td>\n",
       "      <td>12.192844</td>\n",
       "      <td>4.967514</td>\n",
       "    </tr>\n",
       "    <tr>\n",
       "      <th>14</th>\n",
       "      <td>9.849764</td>\n",
       "      <td>14.638771</td>\n",
       "      <td>7.256124</td>\n",
       "    </tr>\n",
       "    <tr>\n",
       "      <th>15</th>\n",
       "      <td>6.446266</td>\n",
       "      <td>12.905412</td>\n",
       "      <td>5.230508</td>\n",
       "    </tr>\n",
       "    <tr>\n",
       "      <th>16</th>\n",
       "      <td>7.485039</td>\n",
       "      <td>18.159929</td>\n",
       "      <td>7.006919</td>\n",
       "    </tr>\n",
       "    <tr>\n",
       "      <th>17</th>\n",
       "      <td>30.137127</td>\n",
       "      <td>25.451963</td>\n",
       "      <td>31.693348</td>\n",
       "    </tr>\n",
       "    <tr>\n",
       "      <th>18</th>\n",
       "      <td>9.629745</td>\n",
       "      <td>13.813663</td>\n",
       "      <td>9.400805</td>\n",
       "    </tr>\n",
       "    <tr>\n",
       "      <th>19</th>\n",
       "      <td>21.979435</td>\n",
       "      <td>26.079681</td>\n",
       "      <td>27.270598</td>\n",
       "    </tr>\n",
       "  </tbody>\n",
       "</table>\n",
       "</div>"
      ],
      "text/plain": [
       "     lightgbm        xgb  linear_regression\n",
       "0   11.657157  19.450005          12.615177\n",
       "1    7.678498   9.337333           8.109863\n",
       "2    9.225338   8.898109          10.997403\n",
       "3    6.698435  10.503695           5.357722\n",
       "4    7.045057  10.534971           5.736983\n",
       "5   16.657346  18.440132          19.210831\n",
       "6    9.117873  13.280671           9.340655\n",
       "7   11.557580  21.794020          11.155716\n",
       "8    6.518597   9.468546           3.905649\n",
       "9    6.961751  10.781061           6.105017\n",
       "10   5.325133   9.376490           3.655279\n",
       "11  12.270075  12.064029          13.127453\n",
       "12  13.747224  21.648979          13.197994\n",
       "13   7.434931  12.192844           4.967514\n",
       "14   9.849764  14.638771           7.256124\n",
       "15   6.446266  12.905412           5.230508\n",
       "16   7.485039  18.159929           7.006919\n",
       "17  30.137127  25.451963          31.693348\n",
       "18   9.629745  13.813663           9.400805\n",
       "19  21.979435  26.079681          27.270598"
      ]
     },
     "execution_count": 28,
     "metadata": {},
     "output_type": "execute_result"
    }
   ],
   "source": [
    "# to-do-list: model ensemble\n",
    "#Ensembling\n",
    "#To combine the 1st level model predictions,use a simple linear regression.\n",
    "#feeding the model with predictions&don't need a complex model\n",
    "#1st level: XGboost,lightbgm,linear regression\n",
    "#2st level: Linear Regression\n",
    "# Dataset that will be the train set of the ensemble model.\n",
    "first_level = pd.DataFrame(lightgbm_val_pred, columns=['lightgbm'])\n",
    "first_level['xgb'] = xgb_val_pred\n",
    "first_level['linear_regression'] = lr_val_pred\n",
    "#first_level['knn'] = lr_val_pred\n",
    "#first_level['label'] = Y_PM25.values\n",
    "first_level.head(20)"
   ]
  },
  {
   "cell_type": "code",
   "execution_count": 29,
   "metadata": {},
   "outputs": [
    {
     "data": {
      "text/html": [
       "<div>\n",
       "<style scoped>\n",
       "    .dataframe tbody tr th:only-of-type {\n",
       "        vertical-align: middle;\n",
       "    }\n",
       "\n",
       "    .dataframe tbody tr th {\n",
       "        vertical-align: top;\n",
       "    }\n",
       "\n",
       "    .dataframe thead th {\n",
       "        text-align: right;\n",
       "    }\n",
       "</style>\n",
       "<table border=\"1\" class=\"dataframe\">\n",
       "  <thead>\n",
       "    <tr style=\"text-align: right;\">\n",
       "      <th></th>\n",
       "      <th>lightgbm</th>\n",
       "      <th>xgb</th>\n",
       "      <th>linear_regression</th>\n",
       "    </tr>\n",
       "  </thead>\n",
       "  <tbody>\n",
       "    <tr>\n",
       "      <th>0</th>\n",
       "      <td>10.863602</td>\n",
       "      <td>16.267586</td>\n",
       "      <td>10.868811</td>\n",
       "    </tr>\n",
       "    <tr>\n",
       "      <th>1</th>\n",
       "      <td>10.693937</td>\n",
       "      <td>12.573215</td>\n",
       "      <td>11.335568</td>\n",
       "    </tr>\n",
       "    <tr>\n",
       "      <th>2</th>\n",
       "      <td>1.949258</td>\n",
       "      <td>6.792130</td>\n",
       "      <td>-0.802689</td>\n",
       "    </tr>\n",
       "    <tr>\n",
       "      <th>3</th>\n",
       "      <td>6.099091</td>\n",
       "      <td>10.253236</td>\n",
       "      <td>5.340764</td>\n",
       "    </tr>\n",
       "    <tr>\n",
       "      <th>4</th>\n",
       "      <td>7.327809</td>\n",
       "      <td>13.342678</td>\n",
       "      <td>11.539936</td>\n",
       "    </tr>\n",
       "  </tbody>\n",
       "</table>\n",
       "</div>"
      ],
      "text/plain": [
       "    lightgbm        xgb  linear_regression\n",
       "0  10.863602  16.267586          10.868811\n",
       "1  10.693937  12.573215          11.335568\n",
       "2   1.949258   6.792130          -0.802689\n",
       "3   6.099091  10.253236           5.340764\n",
       "4   7.327809  13.342678          11.539936"
      ]
     },
     "execution_count": 29,
     "metadata": {},
     "output_type": "execute_result"
    }
   ],
   "source": [
    "# Dataset that will be the test set of the ensemble model.\n",
    "first_level_test = pd.DataFrame(lightgbm_test_pred, columns=['lightgbm'])\n",
    "first_level_test['xgb'] = xgb_test_pred\n",
    "first_level_test['linear_regression'] = lr_test_pred\n",
    "first_level_test.head()"
   ]
  },
  {
   "cell_type": "code",
   "execution_count": 32,
   "metadata": {},
   "outputs": [],
   "source": [
    "meta_model = LinearRegression(n_jobs=-1)\n",
    "#first_level.drop('label', axis=1, inplace=True)\n",
    "meta_model.fit(first_level, train_Y_PM10)\n",
    "ensemble_pred = meta_model.predict(first_level)\n",
    "final_predictions = meta_model.predict(first_level_test)"
   ]
  },
  {
   "cell_type": "code",
   "execution_count": 34,
   "metadata": {},
   "outputs": [
    {
     "name": "stdout",
     "output_type": "stream",
     "text": [
      "test smape: 0.2822857407110573\n"
     ]
    }
   ],
   "source": [
    "print('test smape:', np.mean(np.abs(train_Y_PM10 - ensemble_pred) / (train_Y_PM10 + ensemble_pred) * 2))"
   ]
  },
  {
   "cell_type": "code",
   "execution_count": 35,
   "metadata": {},
   "outputs": [
    {
     "name": "stderr",
     "output_type": "stream",
     "text": [
      "/Users/yulynn/anaconda3/lib/python3.6/site-packages/matplotlib/axes/_axes.py:6462: UserWarning: The 'normed' kwarg is deprecated, and has been replaced by the 'density' kwarg.\n",
      "  warnings.warn(\"The 'normed' kwarg is deprecated, and has been \"\n",
      "/Users/yulynn/anaconda3/lib/python3.6/site-packages/matplotlib/axes/_axes.py:6462: UserWarning: The 'normed' kwarg is deprecated, and has been replaced by the 'density' kwarg.\n",
      "  warnings.warn(\"The 'normed' kwarg is deprecated, and has been \"\n"
     ]
    },
    {
     "data": {
      "image/png": "[encoded data removed]",
      "text/plain": [
       "<Figure size 432x432 with 3 Axes>"
      ]
     },
     "metadata": {},
     "output_type": "display_data"
    }
   ],
   "source": [
    "model_performance_sc_plot(ensemble_pred, train_Y_PM10, 'performance')"
   ]
  },
  {
   "cell_type": "code",
   "execution_count": 36,
   "metadata": {},
   "outputs": [],
   "source": [
    "xgb_val_pred=xgb.predict(train_X_NO2)\n",
    "xgb_test_pred=xgb.predict(test_X_NO2)\n",
    "lightgbm_val_pred=gbm.predict(train_X_NO2)\n",
    "lightgbm_test_pred=gbm.predict(test_X_NO2)\n",
    "lr_val_pred=lr.predict(train_X_NO2)\n",
    "lr_test_pred=lr.predict(test_X_NO2)"
   ]
  },
  {
   "cell_type": "code",
   "execution_count": 37,
   "metadata": {},
   "outputs": [
    {
     "data": {
      "text/html": [
       "<div>\n",
       "<style scoped>\n",
       "    .dataframe tbody tr th:only-of-type {\n",
       "        vertical-align: middle;\n",
       "    }\n",
       "\n",
       "    .dataframe tbody tr th {\n",
       "        vertical-align: top;\n",
       "    }\n",
       "\n",
       "    .dataframe thead th {\n",
       "        text-align: right;\n",
       "    }\n",
       "</style>\n",
       "<table border=\"1\" class=\"dataframe\">\n",
       "  <thead>\n",
       "    <tr style=\"text-align: right;\">\n",
       "      <th></th>\n",
       "      <th>lightgbm</th>\n",
       "      <th>xgb</th>\n",
       "      <th>linear_regression</th>\n",
       "    </tr>\n",
       "  </thead>\n",
       "  <tbody>\n",
       "    <tr>\n",
       "      <th>0</th>\n",
       "      <td>11.657157</td>\n",
       "      <td>19.450005</td>\n",
       "      <td>12.615177</td>\n",
       "    </tr>\n",
       "    <tr>\n",
       "      <th>1</th>\n",
       "      <td>7.678498</td>\n",
       "      <td>9.337333</td>\n",
       "      <td>8.109863</td>\n",
       "    </tr>\n",
       "    <tr>\n",
       "      <th>2</th>\n",
       "      <td>9.225338</td>\n",
       "      <td>8.898109</td>\n",
       "      <td>10.997403</td>\n",
       "    </tr>\n",
       "    <tr>\n",
       "      <th>3</th>\n",
       "      <td>6.698435</td>\n",
       "      <td>10.503695</td>\n",
       "      <td>5.357722</td>\n",
       "    </tr>\n",
       "    <tr>\n",
       "      <th>4</th>\n",
       "      <td>7.045057</td>\n",
       "      <td>10.534971</td>\n",
       "      <td>5.736983</td>\n",
       "    </tr>\n",
       "    <tr>\n",
       "      <th>5</th>\n",
       "      <td>16.657346</td>\n",
       "      <td>18.440132</td>\n",
       "      <td>19.210831</td>\n",
       "    </tr>\n",
       "    <tr>\n",
       "      <th>6</th>\n",
       "      <td>9.117873</td>\n",
       "      <td>13.280671</td>\n",
       "      <td>9.340655</td>\n",
       "    </tr>\n",
       "    <tr>\n",
       "      <th>7</th>\n",
       "      <td>11.557580</td>\n",
       "      <td>21.794020</td>\n",
       "      <td>11.155716</td>\n",
       "    </tr>\n",
       "    <tr>\n",
       "      <th>8</th>\n",
       "      <td>6.518597</td>\n",
       "      <td>9.468546</td>\n",
       "      <td>3.905649</td>\n",
       "    </tr>\n",
       "    <tr>\n",
       "      <th>9</th>\n",
       "      <td>6.961751</td>\n",
       "      <td>10.781061</td>\n",
       "      <td>6.105017</td>\n",
       "    </tr>\n",
       "    <tr>\n",
       "      <th>10</th>\n",
       "      <td>5.325133</td>\n",
       "      <td>9.376490</td>\n",
       "      <td>3.655279</td>\n",
       "    </tr>\n",
       "    <tr>\n",
       "      <th>11</th>\n",
       "      <td>12.270075</td>\n",
       "      <td>12.064029</td>\n",
       "      <td>13.127453</td>\n",
       "    </tr>\n",
       "    <tr>\n",
       "      <th>12</th>\n",
       "      <td>13.747224</td>\n",
       "      <td>21.648979</td>\n",
       "      <td>13.197994</td>\n",
       "    </tr>\n",
       "    <tr>\n",
       "      <th>13</th>\n",
       "      <td>7.434931</td>\n",
       "      <td>12.192844</td>\n",
       "      <td>4.967514</td>\n",
       "    </tr>\n",
       "    <tr>\n",
       "      <th>14</th>\n",
       "      <td>9.849764</td>\n",
       "      <td>14.638771</td>\n",
       "      <td>7.256124</td>\n",
       "    </tr>\n",
       "    <tr>\n",
       "      <th>15</th>\n",
       "      <td>6.446266</td>\n",
       "      <td>12.905412</td>\n",
       "      <td>5.230508</td>\n",
       "    </tr>\n",
       "    <tr>\n",
       "      <th>16</th>\n",
       "      <td>7.485039</td>\n",
       "      <td>18.159929</td>\n",
       "      <td>7.006919</td>\n",
       "    </tr>\n",
       "    <tr>\n",
       "      <th>17</th>\n",
       "      <td>30.137127</td>\n",
       "      <td>25.451963</td>\n",
       "      <td>31.693348</td>\n",
       "    </tr>\n",
       "    <tr>\n",
       "      <th>18</th>\n",
       "      <td>9.629745</td>\n",
       "      <td>13.813663</td>\n",
       "      <td>9.400805</td>\n",
       "    </tr>\n",
       "    <tr>\n",
       "      <th>19</th>\n",
       "      <td>21.979435</td>\n",
       "      <td>26.079681</td>\n",
       "      <td>27.270598</td>\n",
       "    </tr>\n",
       "  </tbody>\n",
       "</table>\n",
       "</div>"
      ],
      "text/plain": [
       "     lightgbm        xgb  linear_regression\n",
       "0   11.657157  19.450005          12.615177\n",
       "1    7.678498   9.337333           8.109863\n",
       "2    9.225338   8.898109          10.997403\n",
       "3    6.698435  10.503695           5.357722\n",
       "4    7.045057  10.534971           5.736983\n",
       "5   16.657346  18.440132          19.210831\n",
       "6    9.117873  13.280671           9.340655\n",
       "7   11.557580  21.794020          11.155716\n",
       "8    6.518597   9.468546           3.905649\n",
       "9    6.961751  10.781061           6.105017\n",
       "10   5.325133   9.376490           3.655279\n",
       "11  12.270075  12.064029          13.127453\n",
       "12  13.747224  21.648979          13.197994\n",
       "13   7.434931  12.192844           4.967514\n",
       "14   9.849764  14.638771           7.256124\n",
       "15   6.446266  12.905412           5.230508\n",
       "16   7.485039  18.159929           7.006919\n",
       "17  30.137127  25.451963          31.693348\n",
       "18   9.629745  13.813663           9.400805\n",
       "19  21.979435  26.079681          27.270598"
      ]
     },
     "execution_count": 37,
     "metadata": {},
     "output_type": "execute_result"
    }
   ],
   "source": [
    "# to-do-list: model ensemble\n",
    "#Ensembling\n",
    "#To combine the 1st level model predictions,use a simple linear regression.\n",
    "#feeding the model with predictions&don't need a complex model\n",
    "#1st level: XGboost,lightbgm,linear regression\n",
    "#2st level: Linear Regression\n",
    "# Dataset that will be the train set of the ensemble model.\n",
    "first_level = pd.DataFrame(lightgbm_val_pred, columns=['lightgbm'])\n",
    "first_level['xgb'] = xgb_val_pred\n",
    "first_level['linear_regression'] = lr_val_pred\n",
    "#first_level['knn'] = lr_val_pred\n",
    "#first_level['label'] = Y_PM25.values\n",
    "first_level.head(20)"
   ]
  },
  {
   "cell_type": "code",
   "execution_count": 38,
   "metadata": {},
   "outputs": [
    {
     "data": {
      "text/html": [
       "<div>\n",
       "<style scoped>\n",
       "    .dataframe tbody tr th:only-of-type {\n",
       "        vertical-align: middle;\n",
       "    }\n",
       "\n",
       "    .dataframe tbody tr th {\n",
       "        vertical-align: top;\n",
       "    }\n",
       "\n",
       "    .dataframe thead th {\n",
       "        text-align: right;\n",
       "    }\n",
       "</style>\n",
       "<table border=\"1\" class=\"dataframe\">\n",
       "  <thead>\n",
       "    <tr style=\"text-align: right;\">\n",
       "      <th></th>\n",
       "      <th>lightgbm</th>\n",
       "      <th>xgb</th>\n",
       "      <th>linear_regression</th>\n",
       "    </tr>\n",
       "  </thead>\n",
       "  <tbody>\n",
       "    <tr>\n",
       "      <th>0</th>\n",
       "      <td>10.863602</td>\n",
       "      <td>16.267586</td>\n",
       "      <td>10.868811</td>\n",
       "    </tr>\n",
       "    <tr>\n",
       "      <th>1</th>\n",
       "      <td>10.693937</td>\n",
       "      <td>12.573215</td>\n",
       "      <td>11.335568</td>\n",
       "    </tr>\n",
       "    <tr>\n",
       "      <th>2</th>\n",
       "      <td>1.949258</td>\n",
       "      <td>6.792130</td>\n",
       "      <td>-0.802689</td>\n",
       "    </tr>\n",
       "    <tr>\n",
       "      <th>3</th>\n",
       "      <td>6.099091</td>\n",
       "      <td>10.253236</td>\n",
       "      <td>5.340764</td>\n",
       "    </tr>\n",
       "    <tr>\n",
       "      <th>4</th>\n",
       "      <td>7.327809</td>\n",
       "      <td>13.342678</td>\n",
       "      <td>11.539936</td>\n",
       "    </tr>\n",
       "  </tbody>\n",
       "</table>\n",
       "</div>"
      ],
      "text/plain": [
       "    lightgbm        xgb  linear_regression\n",
       "0  10.863602  16.267586          10.868811\n",
       "1  10.693937  12.573215          11.335568\n",
       "2   1.949258   6.792130          -0.802689\n",
       "3   6.099091  10.253236           5.340764\n",
       "4   7.327809  13.342678          11.539936"
      ]
     },
     "execution_count": 38,
     "metadata": {},
     "output_type": "execute_result"
    }
   ],
   "source": [
    "# Dataset that will be the test set of the ensemble model.\n",
    "first_level_test = pd.DataFrame(lightgbm_test_pred, columns=['lightgbm'])\n",
    "first_level_test['xgb'] = xgb_test_pred\n",
    "first_level_test['linear_regression'] = lr_test_pred\n",
    "first_level_test.head()"
   ]
  },
  {
   "cell_type": "code",
   "execution_count": 39,
   "metadata": {},
   "outputs": [],
   "source": [
    "meta_model = LinearRegression(n_jobs=-1)\n",
    "#first_level.drop('label', axis=1, inplace=True)\n",
    "meta_model.fit(first_level, train_Y_NO2)\n",
    "ensemble_pred = meta_model.predict(first_level)\n",
    "final_predictions = meta_model.predict(first_level_test)"
   ]
  },
  {
   "cell_type": "code",
   "execution_count": 40,
   "metadata": {},
   "outputs": [
    {
     "name": "stdout",
     "output_type": "stream",
     "text": [
      "test smape: 0.4989923227606918\n"
     ]
    }
   ],
   "source": [
    "print('test smape:', np.mean(np.abs(train_Y_NO2 - ensemble_pred) / (train_Y_NO2 + ensemble_pred) * 2))"
   ]
  },
  {
   "cell_type": "code",
   "execution_count": 41,
   "metadata": {},
   "outputs": [
    {
     "name": "stderr",
     "output_type": "stream",
     "text": [
      "/Users/yulynn/anaconda3/lib/python3.6/site-packages/matplotlib/axes/_axes.py:6462: UserWarning: The 'normed' kwarg is deprecated, and has been replaced by the 'density' kwarg.\n",
      "  warnings.warn(\"The 'normed' kwarg is deprecated, and has been \"\n",
      "/Users/yulynn/anaconda3/lib/python3.6/site-packages/matplotlib/axes/_axes.py:6462: UserWarning: The 'normed' kwarg is deprecated, and has been replaced by the 'density' kwarg.\n",
      "  warnings.warn(\"The 'normed' kwarg is deprecated, and has been \"\n"
     ]
    },
    {
     "data": {
      "image/png": "[encoded data removed]",
      "text/plain": [
       "<Figure size 432x432 with 3 Axes>"
      ]
     },
     "metadata": {},
     "output_type": "display_data"
    }
   ],
   "source": [
    "model_performance_sc_plot(ensemble_pred, train_Y_NO2, 'performance')"
   ]
  },
  {
   "cell_type": "code",
   "execution_count": null,
   "metadata": {},
   "outputs": [],
   "source": []
  }
 ],
 "metadata": {
  "kernelspec": {
   "display_name": "Python 3",
   "language": "python",
   "name": "python3"
  },
  "language_info": {
   "codemirror_mode": {
    "name": "ipython",
    "version": 3
   },
   "file_extension": ".py",
   "mimetype": "text/x-python",
   "name": "python",
   "nbconvert_exporter": "python",
   "pygments_lexer": "ipython3",
   "version": "3.6.8"
  }
 },
 "nbformat": 4,
 "nbformat_minor": 2
}
