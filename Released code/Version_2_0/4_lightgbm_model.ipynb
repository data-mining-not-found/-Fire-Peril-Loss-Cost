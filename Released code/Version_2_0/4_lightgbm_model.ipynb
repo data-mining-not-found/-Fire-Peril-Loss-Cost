{
 "cells": [
  {
   "cell_type": "code",
   "execution_count": 1,
   "metadata": {},
   "outputs": [],
   "source": [
    "import lightgbm as lgb\n",
    "import numpy as np\n",
    "import pickle\n",
    "import time\n",
    "from sklearn.model_selection import train_test_split"
   ]
  },
  {
   "cell_type": "code",
   "execution_count": 2,
   "metadata": {},
   "outputs": [],
   "source": [
    "def save_pkl(file_dir, data):\n",
    "    f = open(file_dir,\"wb\")\n",
    "    pickle.dump(data, f, protocol=4)\n",
    "    f.close()\n",
    "    \n",
    "def read_pkl(file_dir):\n",
    "    f = open(file_dir,\"rb\")\n",
    "    data = pickle.load(f)\n",
    "    return data"
   ]
  },
  {
   "cell_type": "code",
   "execution_count": 3,
   "metadata": {},
   "outputs": [],
   "source": [
    "# load the whole size dataset\n",
    "X = np.load(\"London/X_all.npy\")\n",
    "Y_NO2 = np.load(\"London/Y_NO2_all.npy\")\n",
    "Y_PM10 = np.load(\"London/Y_PM10_all.npy\")\n",
    "Y_PM25 = np.load(\"London/Y_PM25_all.npy\")"
   ]
  },
  {
   "cell_type": "code",
   "execution_count": 4,
   "metadata": {},
   "outputs": [],
   "source": [
    "# calculate the symmetric mean absolute percentage error (SMAPE)\n",
    "def get_score(pred, valid_y_exp):\n",
    "    return np.mean(np.abs(pred - valid_y_exp) / (pred + valid_y_exp) * 2)"
   ]
  },
  {
   "cell_type": "code",
   "execution_count": 11,
   "metadata": {},
   "outputs": [],
   "source": [
    "# lightgbm model parameters\n",
    "# model_param = {'lr': 0.02, 'depth': 10, 'tree': 3000, 'leaf': 400, 'sample': 0.9, 'seed': 3}\n",
    "model_param = {'lr': 0.1, 'depth': 10, 'tree': 300, 'leaf': 600, 'sample': 0.8, 'seed': 3}\n",
    "params = {\n",
    "    'task': 'train',\n",
    "    'boosting_type': 'gbdt',\n",
    "    'objective': 'regression_l2',\n",
    "    'metric': {'l2', 'l1'},\n",
    "    'max_depth': model_param['depth'],\n",
    "    'num_leaves': model_param['leaf'],\n",
    "    'min_data_in_leaf': 20,\n",
    "    'learning_rate': model_param['lr'],\n",
    "    'feature_fraction': 1,\n",
    "    'bagging_fraction': model_param['sample'],\n",
    "    'bagging_freq': 1,\n",
    "    'bagging_seed': model_param['seed'],\n",
    "#     'min_sum_hessian_in_leaf': 100,\n",
    "    'verbose': 0\n",
    "}\n",
    "\n",
    "# train and test the input X Y with the lightgbm model\n",
    "def train_test(model_param, params, train_X, test_X, train_Y, test_Y, save_dir):\n",
    "    time_start = time.time()\n",
    "    lgb_train = lgb.Dataset(train_X, train_Y)\n",
    "    lgb_eval = lgb.Dataset(test_X, test_Y, reference=lgb_train)\n",
    "    gbm = lgb.train(params,\n",
    "                    lgb_train,\n",
    "                    num_boost_round=model_param['tree'],\n",
    "                    valid_sets=lgb_eval,\n",
    "                    early_stopping_rounds=20)\n",
    "\n",
    "    test_predict = gbm.predict(test_X)\n",
    "    score = get_score(test_predict, test_Y)\n",
    "    save_pkl(save_dir, gbm)\n",
    "    print('running time: ', time.time() - time_start)\n",
    "    return score"
   ]
  },
  {
   "cell_type": "code",
   "execution_count": 6,
   "metadata": {},
   "outputs": [],
   "source": [
    "# PM 2.5"
   ]
  },
  {
   "cell_type": "code",
   "execution_count": 7,
   "metadata": {},
   "outputs": [
    {
     "name": "stdout",
     "output_type": "stream",
     "text": [
      "(4325068, 198) (1081268, 198) (4325068,) (1081268,)\n"
     ]
    }
   ],
   "source": [
    "# split the Y_PM25, X into training part and testing part\n",
    "train_X_PM25, test_X_PM25, train_Y_PM25, test_Y_PM25 = train_test_split(X, Y_PM25, test_size=0.2, random_state=11)\n",
    "print(train_X_PM25.shape, test_X_PM25.shape, train_Y_PM25.shape, test_Y_PM25.shape)"
   ]
  },
  {
   "cell_type": "code",
   "execution_count": 12,
   "metadata": {},
   "outputs": [
    {
     "name": "stdout",
     "output_type": "stream",
     "text": [
      "[1]\tvalid_0's l2: 106.027\tvalid_0's l1: 6.93052\n",
      "Training until validation scores don't improve for 20 rounds.\n",
      "[2]\tvalid_0's l2: 88.2952\tvalid_0's l1: 6.34463\n",
      "[3]\tvalid_0's l2: 73.9024\tvalid_0's l1: 5.82502\n",
      "[4]\tvalid_0's l2: 62.1954\tvalid_0's l1: 5.36487\n",
      "[5]\tvalid_0's l2: 52.6664\tvalid_0's l1: 4.95839\n",
      "[6]\tvalid_0's l2: 44.9285\tvalid_0's l1: 4.59976\n",
      "[7]\tvalid_0's l2: 38.6074\tvalid_0's l1: 4.28403\n",
      "[8]\tvalid_0's l2: 33.4587\tvalid_0's l1: 4.00646\n",
      "[9]\tvalid_0's l2: 29.2474\tvalid_0's l1: 3.7631\n",
      "[10]\tvalid_0's l2: 25.7994\tvalid_0's l1: 3.5507\n",
      "[11]\tvalid_0's l2: 22.9826\tvalid_0's l1: 3.36524\n",
      "[12]\tvalid_0's l2: 20.6583\tvalid_0's l1: 3.20397\n",
      "[13]\tvalid_0's l2: 18.7451\tvalid_0's l1: 3.06397\n",
      "[14]\tvalid_0's l2: 17.1781\tvalid_0's l1: 2.94231\n",
      "[15]\tvalid_0's l2: 15.8898\tvalid_0's l1: 2.83734\n",
      "[16]\tvalid_0's l2: 14.801\tvalid_0's l1: 2.7461\n",
      "[17]\tvalid_0's l2: 13.9172\tvalid_0's l1: 2.66771\n",
      "[18]\tvalid_0's l2: 13.1725\tvalid_0's l1: 2.59926\n",
      "[19]\tvalid_0's l2: 12.5411\tvalid_0's l1: 2.5393\n",
      "[20]\tvalid_0's l2: 12.0069\tvalid_0's l1: 2.48615\n",
      "[21]\tvalid_0's l2: 11.5501\tvalid_0's l1: 2.4408\n",
      "[22]\tvalid_0's l2: 11.1616\tvalid_0's l1: 2.40057\n",
      "[23]\tvalid_0's l2: 10.8243\tvalid_0's l1: 2.3649\n",
      "[24]\tvalid_0's l2: 10.5398\tvalid_0's l1: 2.33361\n",
      "[25]\tvalid_0's l2: 10.2699\tvalid_0's l1: 2.30486\n",
      "[26]\tvalid_0's l2: 10.0333\tvalid_0's l1: 2.279\n",
      "[27]\tvalid_0's l2: 9.8312\tvalid_0's l1: 2.25623\n",
      "[28]\tvalid_0's l2: 9.63699\tvalid_0's l1: 2.23445\n",
      "[29]\tvalid_0's l2: 9.45697\tvalid_0's l1: 2.21474\n",
      "[30]\tvalid_0's l2: 9.31003\tvalid_0's l1: 2.19799\n",
      "[31]\tvalid_0's l2: 9.16166\tvalid_0's l1: 2.18145\n",
      "[32]\tvalid_0's l2: 9.03171\tvalid_0's l1: 2.16723\n",
      "[33]\tvalid_0's l2: 8.91036\tvalid_0's l1: 2.15353\n",
      "[34]\tvalid_0's l2: 8.80714\tvalid_0's l1: 2.14203\n",
      "[35]\tvalid_0's l2: 8.70654\tvalid_0's l1: 2.13117\n",
      "[36]\tvalid_0's l2: 8.6042\tvalid_0's l1: 2.1192\n",
      "[37]\tvalid_0's l2: 8.50718\tvalid_0's l1: 2.10911\n",
      "[38]\tvalid_0's l2: 8.40928\tvalid_0's l1: 2.09791\n",
      "[39]\tvalid_0's l2: 8.32164\tvalid_0's l1: 2.08869\n",
      "[40]\tvalid_0's l2: 8.23916\tvalid_0's l1: 2.07974\n",
      "[41]\tvalid_0's l2: 8.15884\tvalid_0's l1: 2.07106\n",
      "[42]\tvalid_0's l2: 8.09161\tvalid_0's l1: 2.06274\n",
      "[43]\tvalid_0's l2: 8.01818\tvalid_0's l1: 2.05432\n",
      "[44]\tvalid_0's l2: 7.94969\tvalid_0's l1: 2.04679\n",
      "[45]\tvalid_0's l2: 7.8806\tvalid_0's l1: 2.03909\n",
      "[46]\tvalid_0's l2: 7.81321\tvalid_0's l1: 2.03163\n",
      "[47]\tvalid_0's l2: 7.7588\tvalid_0's l1: 2.02516\n",
      "[48]\tvalid_0's l2: 7.70535\tvalid_0's l1: 2.01901\n",
      "[49]\tvalid_0's l2: 7.64214\tvalid_0's l1: 2.01157\n",
      "[50]\tvalid_0's l2: 7.58558\tvalid_0's l1: 2.00547\n",
      "[51]\tvalid_0's l2: 7.53222\tvalid_0's l1: 1.99906\n",
      "[52]\tvalid_0's l2: 7.476\tvalid_0's l1: 1.9932\n",
      "[53]\tvalid_0's l2: 7.43327\tvalid_0's l1: 1.98771\n",
      "[54]\tvalid_0's l2: 7.37747\tvalid_0's l1: 1.98115\n",
      "[55]\tvalid_0's l2: 7.31166\tvalid_0's l1: 1.97313\n",
      "[56]\tvalid_0's l2: 7.25008\tvalid_0's l1: 1.96624\n",
      "[57]\tvalid_0's l2: 7.2042\tvalid_0's l1: 1.96048\n",
      "[58]\tvalid_0's l2: 7.16377\tvalid_0's l1: 1.95578\n",
      "[59]\tvalid_0's l2: 7.11053\tvalid_0's l1: 1.94948\n",
      "[60]\tvalid_0's l2: 7.06826\tvalid_0's l1: 1.94443\n",
      "[61]\tvalid_0's l2: 7.01911\tvalid_0's l1: 1.93908\n",
      "[62]\tvalid_0's l2: 6.97019\tvalid_0's l1: 1.93356\n",
      "[63]\tvalid_0's l2: 6.93621\tvalid_0's l1: 1.92931\n",
      "[64]\tvalid_0's l2: 6.89015\tvalid_0's l1: 1.92325\n",
      "[65]\tvalid_0's l2: 6.85484\tvalid_0's l1: 1.9187\n",
      "[66]\tvalid_0's l2: 6.81439\tvalid_0's l1: 1.91379\n",
      "[67]\tvalid_0's l2: 6.76965\tvalid_0's l1: 1.90832\n",
      "[68]\tvalid_0's l2: 6.73125\tvalid_0's l1: 1.90327\n",
      "[69]\tvalid_0's l2: 6.69278\tvalid_0's l1: 1.89872\n",
      "[70]\tvalid_0's l2: 6.64769\tvalid_0's l1: 1.89327\n",
      "[71]\tvalid_0's l2: 6.61346\tvalid_0's l1: 1.88873\n",
      "[72]\tvalid_0's l2: 6.57404\tvalid_0's l1: 1.88397\n",
      "[73]\tvalid_0's l2: 6.5322\tvalid_0's l1: 1.87859\n",
      "[74]\tvalid_0's l2: 6.49801\tvalid_0's l1: 1.87459\n",
      "[75]\tvalid_0's l2: 6.46554\tvalid_0's l1: 1.86996\n",
      "[76]\tvalid_0's l2: 6.4278\tvalid_0's l1: 1.86527\n",
      "[77]\tvalid_0's l2: 6.3874\tvalid_0's l1: 1.86019\n",
      "[78]\tvalid_0's l2: 6.35509\tvalid_0's l1: 1.85634\n",
      "[79]\tvalid_0's l2: 6.32751\tvalid_0's l1: 1.85286\n",
      "[80]\tvalid_0's l2: 6.29144\tvalid_0's l1: 1.84829\n",
      "[81]\tvalid_0's l2: 6.2576\tvalid_0's l1: 1.8441\n",
      "[82]\tvalid_0's l2: 6.2236\tvalid_0's l1: 1.83984\n",
      "[83]\tvalid_0's l2: 6.18446\tvalid_0's l1: 1.83473\n",
      "[84]\tvalid_0's l2: 6.14948\tvalid_0's l1: 1.82984\n",
      "[85]\tvalid_0's l2: 6.11219\tvalid_0's l1: 1.82519\n",
      "[86]\tvalid_0's l2: 6.07593\tvalid_0's l1: 1.8205\n",
      "[87]\tvalid_0's l2: 6.05719\tvalid_0's l1: 1.81759\n",
      "[88]\tvalid_0's l2: 6.02633\tvalid_0's l1: 1.81355\n",
      "[89]\tvalid_0's l2: 6.0002\tvalid_0's l1: 1.80998\n",
      "[90]\tvalid_0's l2: 5.97055\tvalid_0's l1: 1.80594\n",
      "[91]\tvalid_0's l2: 5.93703\tvalid_0's l1: 1.80156\n",
      "[92]\tvalid_0's l2: 5.9061\tvalid_0's l1: 1.79739\n",
      "[93]\tvalid_0's l2: 5.87909\tvalid_0's l1: 1.7938\n",
      "[94]\tvalid_0's l2: 5.85971\tvalid_0's l1: 1.79081\n",
      "[95]\tvalid_0's l2: 5.83328\tvalid_0's l1: 1.78718\n",
      "[96]\tvalid_0's l2: 5.80416\tvalid_0's l1: 1.78324\n",
      "[97]\tvalid_0's l2: 5.76731\tvalid_0's l1: 1.77801\n",
      "[98]\tvalid_0's l2: 5.73857\tvalid_0's l1: 1.77421\n",
      "[99]\tvalid_0's l2: 5.71837\tvalid_0's l1: 1.77105\n",
      "[100]\tvalid_0's l2: 5.69551\tvalid_0's l1: 1.76755\n",
      "[101]\tvalid_0's l2: 5.66563\tvalid_0's l1: 1.76368\n",
      "[102]\tvalid_0's l2: 5.63503\tvalid_0's l1: 1.75988\n",
      "[103]\tvalid_0's l2: 5.61104\tvalid_0's l1: 1.75612\n",
      "[104]\tvalid_0's l2: 5.59018\tvalid_0's l1: 1.7533\n",
      "[105]\tvalid_0's l2: 5.56579\tvalid_0's l1: 1.74999\n",
      "[106]\tvalid_0's l2: 5.54246\tvalid_0's l1: 1.74694\n",
      "[107]\tvalid_0's l2: 5.51967\tvalid_0's l1: 1.74391\n",
      "[108]\tvalid_0's l2: 5.4945\tvalid_0's l1: 1.74027\n",
      "[109]\tvalid_0's l2: 5.47077\tvalid_0's l1: 1.73656\n",
      "[110]\tvalid_0's l2: 5.44967\tvalid_0's l1: 1.73326\n",
      "[111]\tvalid_0's l2: 5.42492\tvalid_0's l1: 1.7297\n",
      "[112]\tvalid_0's l2: 5.39963\tvalid_0's l1: 1.72581\n",
      "[113]\tvalid_0's l2: 5.37568\tvalid_0's l1: 1.7224\n",
      "[114]\tvalid_0's l2: 5.35303\tvalid_0's l1: 1.71913\n",
      "[115]\tvalid_0's l2: 5.32792\tvalid_0's l1: 1.71556\n",
      "[116]\tvalid_0's l2: 5.31057\tvalid_0's l1: 1.71299\n",
      "[117]\tvalid_0's l2: 5.28937\tvalid_0's l1: 1.70995\n",
      "[118]\tvalid_0's l2: 5.27453\tvalid_0's l1: 1.70761\n",
      "[119]\tvalid_0's l2: 5.2561\tvalid_0's l1: 1.70484\n",
      "[120]\tvalid_0's l2: 5.23821\tvalid_0's l1: 1.7018\n",
      "[121]\tvalid_0's l2: 5.21995\tvalid_0's l1: 1.69914\n",
      "[122]\tvalid_0's l2: 5.19599\tvalid_0's l1: 1.6957\n",
      "[123]\tvalid_0's l2: 5.17295\tvalid_0's l1: 1.69232\n",
      "[124]\tvalid_0's l2: 5.15124\tvalid_0's l1: 1.68893\n",
      "[125]\tvalid_0's l2: 5.12375\tvalid_0's l1: 1.6847\n",
      "[126]\tvalid_0's l2: 5.10322\tvalid_0's l1: 1.68169\n",
      "[127]\tvalid_0's l2: 5.08269\tvalid_0's l1: 1.67862\n",
      "[128]\tvalid_0's l2: 5.06137\tvalid_0's l1: 1.67535\n",
      "[129]\tvalid_0's l2: 5.03939\tvalid_0's l1: 1.67163\n",
      "[130]\tvalid_0's l2: 5.02265\tvalid_0's l1: 1.66916\n",
      "[131]\tvalid_0's l2: 4.99904\tvalid_0's l1: 1.66554\n",
      "[132]\tvalid_0's l2: 4.98205\tvalid_0's l1: 1.66297\n",
      "[133]\tvalid_0's l2: 4.96282\tvalid_0's l1: 1.65978\n",
      "[134]\tvalid_0's l2: 4.94459\tvalid_0's l1: 1.65666\n",
      "[135]\tvalid_0's l2: 4.92431\tvalid_0's l1: 1.65351\n",
      "[136]\tvalid_0's l2: 4.90707\tvalid_0's l1: 1.65082\n",
      "[137]\tvalid_0's l2: 4.88608\tvalid_0's l1: 1.64772\n",
      "[138]\tvalid_0's l2: 4.86515\tvalid_0's l1: 1.64436\n",
      "[139]\tvalid_0's l2: 4.84641\tvalid_0's l1: 1.64123\n",
      "[140]\tvalid_0's l2: 4.82109\tvalid_0's l1: 1.63739\n",
      "[141]\tvalid_0's l2: 4.80328\tvalid_0's l1: 1.63455\n",
      "[142]\tvalid_0's l2: 4.77919\tvalid_0's l1: 1.6306\n",
      "[143]\tvalid_0's l2: 4.76341\tvalid_0's l1: 1.62792\n",
      "[144]\tvalid_0's l2: 4.74439\tvalid_0's l1: 1.62487\n",
      "[145]\tvalid_0's l2: 4.72949\tvalid_0's l1: 1.62233\n",
      "[146]\tvalid_0's l2: 4.71246\tvalid_0's l1: 1.61963\n",
      "[147]\tvalid_0's l2: 4.69696\tvalid_0's l1: 1.61698\n",
      "[148]\tvalid_0's l2: 4.68232\tvalid_0's l1: 1.61463\n",
      "[149]\tvalid_0's l2: 4.66922\tvalid_0's l1: 1.61242\n",
      "[150]\tvalid_0's l2: 4.64762\tvalid_0's l1: 1.60882\n",
      "[151]\tvalid_0's l2: 4.63268\tvalid_0's l1: 1.60607\n",
      "[152]\tvalid_0's l2: 4.61234\tvalid_0's l1: 1.60274\n",
      "[153]\tvalid_0's l2: 4.59753\tvalid_0's l1: 1.60007\n",
      "[154]\tvalid_0's l2: 4.58147\tvalid_0's l1: 1.59751\n",
      "[155]\tvalid_0's l2: 4.56469\tvalid_0's l1: 1.59471\n",
      "[156]\tvalid_0's l2: 4.55091\tvalid_0's l1: 1.59257\n",
      "[157]\tvalid_0's l2: 4.53717\tvalid_0's l1: 1.5906\n",
      "[158]\tvalid_0's l2: 4.52737\tvalid_0's l1: 1.58872\n",
      "[159]\tvalid_0's l2: 4.5154\tvalid_0's l1: 1.58667\n",
      "[160]\tvalid_0's l2: 4.50431\tvalid_0's l1: 1.58503\n",
      "[161]\tvalid_0's l2: 4.48381\tvalid_0's l1: 1.58168\n",
      "[162]\tvalid_0's l2: 4.47056\tvalid_0's l1: 1.5793\n",
      "[163]\tvalid_0's l2: 4.45818\tvalid_0's l1: 1.57697\n",
      "[164]\tvalid_0's l2: 4.44435\tvalid_0's l1: 1.57471\n",
      "[165]\tvalid_0's l2: 4.42953\tvalid_0's l1: 1.57215\n",
      "[166]\tvalid_0's l2: 4.4135\tvalid_0's l1: 1.56931\n",
      "[167]\tvalid_0's l2: 4.39968\tvalid_0's l1: 1.56695\n",
      "[168]\tvalid_0's l2: 4.38273\tvalid_0's l1: 1.56417\n",
      "[169]\tvalid_0's l2: 4.37084\tvalid_0's l1: 1.56209\n",
      "[170]\tvalid_0's l2: 4.3542\tvalid_0's l1: 1.5593\n",
      "[171]\tvalid_0's l2: 4.3362\tvalid_0's l1: 1.55642\n",
      "[172]\tvalid_0's l2: 4.32441\tvalid_0's l1: 1.55421\n",
      "[173]\tvalid_0's l2: 4.31577\tvalid_0's l1: 1.55244\n",
      "[174]\tvalid_0's l2: 4.3041\tvalid_0's l1: 1.55024\n",
      "[175]\tvalid_0's l2: 4.28674\tvalid_0's l1: 1.54754\n",
      "[176]\tvalid_0's l2: 4.27422\tvalid_0's l1: 1.54529\n",
      "[177]\tvalid_0's l2: 4.26296\tvalid_0's l1: 1.54302\n",
      "[178]\tvalid_0's l2: 4.2531\tvalid_0's l1: 1.54104\n",
      "[179]\tvalid_0's l2: 4.23517\tvalid_0's l1: 1.53803\n",
      "[180]\tvalid_0's l2: 4.22236\tvalid_0's l1: 1.5359\n",
      "[181]\tvalid_0's l2: 4.20869\tvalid_0's l1: 1.53337\n",
      "[182]\tvalid_0's l2: 4.19365\tvalid_0's l1: 1.53086\n",
      "[183]\tvalid_0's l2: 4.18238\tvalid_0's l1: 1.52891\n",
      "[184]\tvalid_0's l2: 4.16948\tvalid_0's l1: 1.52682\n",
      "[185]\tvalid_0's l2: 4.15559\tvalid_0's l1: 1.52442\n",
      "[186]\tvalid_0's l2: 4.14079\tvalid_0's l1: 1.52199\n",
      "[187]\tvalid_0's l2: 4.12934\tvalid_0's l1: 1.52001\n",
      "[188]\tvalid_0's l2: 4.11984\tvalid_0's l1: 1.51811\n",
      "[189]\tvalid_0's l2: 4.10519\tvalid_0's l1: 1.51549\n",
      "[190]\tvalid_0's l2: 4.09237\tvalid_0's l1: 1.51303\n",
      "[191]\tvalid_0's l2: 4.08089\tvalid_0's l1: 1.51071\n",
      "[192]\tvalid_0's l2: 4.06602\tvalid_0's l1: 1.50808\n",
      "[193]\tvalid_0's l2: 4.05355\tvalid_0's l1: 1.50579\n",
      "[194]\tvalid_0's l2: 4.04328\tvalid_0's l1: 1.50382\n",
      "[195]\tvalid_0's l2: 4.0346\tvalid_0's l1: 1.50218\n",
      "[196]\tvalid_0's l2: 4.02003\tvalid_0's l1: 1.49959\n",
      "[197]\tvalid_0's l2: 4.00914\tvalid_0's l1: 1.4975\n",
      "[198]\tvalid_0's l2: 3.99624\tvalid_0's l1: 1.49518\n",
      "[199]\tvalid_0's l2: 3.98686\tvalid_0's l1: 1.49334\n",
      "[200]\tvalid_0's l2: 3.97508\tvalid_0's l1: 1.49107\n",
      "[201]\tvalid_0's l2: 3.96191\tvalid_0's l1: 1.48869\n",
      "[202]\tvalid_0's l2: 3.95262\tvalid_0's l1: 1.48707\n",
      "[203]\tvalid_0's l2: 3.94089\tvalid_0's l1: 1.48506\n",
      "[204]\tvalid_0's l2: 3.92912\tvalid_0's l1: 1.48291\n",
      "[205]\tvalid_0's l2: 3.91565\tvalid_0's l1: 1.48042\n",
      "[206]\tvalid_0's l2: 3.904\tvalid_0's l1: 1.47821\n",
      "[207]\tvalid_0's l2: 3.89286\tvalid_0's l1: 1.47613\n",
      "[208]\tvalid_0's l2: 3.8802\tvalid_0's l1: 1.47378\n",
      "[209]\tvalid_0's l2: 3.86729\tvalid_0's l1: 1.47158\n",
      "[210]\tvalid_0's l2: 3.85929\tvalid_0's l1: 1.47\n",
      "[211]\tvalid_0's l2: 3.8477\tvalid_0's l1: 1.4679\n",
      "[212]\tvalid_0's l2: 3.83649\tvalid_0's l1: 1.4658\n",
      "[213]\tvalid_0's l2: 3.8235\tvalid_0's l1: 1.46356\n",
      "[214]\tvalid_0's l2: 3.81204\tvalid_0's l1: 1.46149\n",
      "[215]\tvalid_0's l2: 3.8049\tvalid_0's l1: 1.46007\n",
      "[216]\tvalid_0's l2: 3.79239\tvalid_0's l1: 1.4577\n",
      "[217]\tvalid_0's l2: 3.78214\tvalid_0's l1: 1.45589\n",
      "[218]\tvalid_0's l2: 3.77351\tvalid_0's l1: 1.45409\n",
      "[219]\tvalid_0's l2: 3.76277\tvalid_0's l1: 1.45202\n",
      "[220]\tvalid_0's l2: 3.75088\tvalid_0's l1: 1.44977\n",
      "[221]\tvalid_0's l2: 3.74187\tvalid_0's l1: 1.44782\n",
      "[222]\tvalid_0's l2: 3.72779\tvalid_0's l1: 1.44511\n",
      "[223]\tvalid_0's l2: 3.71705\tvalid_0's l1: 1.44302\n",
      "[224]\tvalid_0's l2: 3.70725\tvalid_0's l1: 1.44122\n",
      "[225]\tvalid_0's l2: 3.69995\tvalid_0's l1: 1.4397\n",
      "[226]\tvalid_0's l2: 3.69045\tvalid_0's l1: 1.4376\n",
      "[227]\tvalid_0's l2: 3.67728\tvalid_0's l1: 1.43494\n",
      "[228]\tvalid_0's l2: 3.66677\tvalid_0's l1: 1.43296\n",
      "[229]\tvalid_0's l2: 3.65682\tvalid_0's l1: 1.43113\n",
      "[230]\tvalid_0's l2: 3.64807\tvalid_0's l1: 1.42927\n",
      "[231]\tvalid_0's l2: 3.63728\tvalid_0's l1: 1.42705\n",
      "[232]\tvalid_0's l2: 3.62205\tvalid_0's l1: 1.42415\n",
      "[233]\tvalid_0's l2: 3.61268\tvalid_0's l1: 1.42226\n",
      "[234]\tvalid_0's l2: 3.60611\tvalid_0's l1: 1.42097\n",
      "[235]\tvalid_0's l2: 3.59358\tvalid_0's l1: 1.41867\n",
      "[236]\tvalid_0's l2: 3.58354\tvalid_0's l1: 1.41672\n",
      "[237]\tvalid_0's l2: 3.57602\tvalid_0's l1: 1.41526\n",
      "[238]\tvalid_0's l2: 3.56529\tvalid_0's l1: 1.41312\n",
      "[239]\tvalid_0's l2: 3.55372\tvalid_0's l1: 1.4108\n",
      "[240]\tvalid_0's l2: 3.54365\tvalid_0's l1: 1.40891\n",
      "[241]\tvalid_0's l2: 3.53484\tvalid_0's l1: 1.40738\n",
      "[242]\tvalid_0's l2: 3.52331\tvalid_0's l1: 1.40512\n",
      "[243]\tvalid_0's l2: 3.51501\tvalid_0's l1: 1.40342\n",
      "[244]\tvalid_0's l2: 3.5064\tvalid_0's l1: 1.40179\n",
      "[245]\tvalid_0's l2: 3.50169\tvalid_0's l1: 1.40084\n",
      "[246]\tvalid_0's l2: 3.49277\tvalid_0's l1: 1.39903\n",
      "[247]\tvalid_0's l2: 3.48385\tvalid_0's l1: 1.39733\n",
      "[248]\tvalid_0's l2: 3.47636\tvalid_0's l1: 1.39583\n",
      "[249]\tvalid_0's l2: 3.46536\tvalid_0's l1: 1.39357\n",
      "[250]\tvalid_0's l2: 3.45946\tvalid_0's l1: 1.39222\n",
      "[251]\tvalid_0's l2: 3.44851\tvalid_0's l1: 1.38997\n",
      "[252]\tvalid_0's l2: 3.43987\tvalid_0's l1: 1.38827\n",
      "[253]\tvalid_0's l2: 3.43111\tvalid_0's l1: 1.3866\n",
      "[254]\tvalid_0's l2: 3.42297\tvalid_0's l1: 1.38496\n",
      "[255]\tvalid_0's l2: 3.41451\tvalid_0's l1: 1.38306\n",
      "[256]\tvalid_0's l2: 3.40457\tvalid_0's l1: 1.38099\n",
      "[257]\tvalid_0's l2: 3.39672\tvalid_0's l1: 1.37944\n",
      "[258]\tvalid_0's l2: 3.38459\tvalid_0's l1: 1.37699\n",
      "[259]\tvalid_0's l2: 3.37627\tvalid_0's l1: 1.37521\n",
      "[260]\tvalid_0's l2: 3.36815\tvalid_0's l1: 1.37355\n",
      "[261]\tvalid_0's l2: 3.35991\tvalid_0's l1: 1.37191\n",
      "[262]\tvalid_0's l2: 3.34959\tvalid_0's l1: 1.36963\n",
      "[263]\tvalid_0's l2: 3.34067\tvalid_0's l1: 1.36786\n",
      "[264]\tvalid_0's l2: 3.33236\tvalid_0's l1: 1.36619\n",
      "[265]\tvalid_0's l2: 3.32533\tvalid_0's l1: 1.36461\n",
      "[266]\tvalid_0's l2: 3.31713\tvalid_0's l1: 1.3629\n",
      "[267]\tvalid_0's l2: 3.30997\tvalid_0's l1: 1.36136\n",
      "[268]\tvalid_0's l2: 3.30252\tvalid_0's l1: 1.35975\n",
      "[269]\tvalid_0's l2: 3.29437\tvalid_0's l1: 1.3581\n",
      "[270]\tvalid_0's l2: 3.28618\tvalid_0's l1: 1.35635\n",
      "[271]\tvalid_0's l2: 3.2789\tvalid_0's l1: 1.3547\n",
      "[272]\tvalid_0's l2: 3.27266\tvalid_0's l1: 1.35327\n",
      "[273]\tvalid_0's l2: 3.26449\tvalid_0's l1: 1.35158\n",
      "[274]\tvalid_0's l2: 3.25586\tvalid_0's l1: 1.34984\n",
      "[275]\tvalid_0's l2: 3.2488\tvalid_0's l1: 1.34842\n",
      "[276]\tvalid_0's l2: 3.23679\tvalid_0's l1: 1.34588\n",
      "[277]\tvalid_0's l2: 3.22862\tvalid_0's l1: 1.34419\n",
      "[278]\tvalid_0's l2: 3.22071\tvalid_0's l1: 1.3425\n",
      "[279]\tvalid_0's l2: 3.21064\tvalid_0's l1: 1.34049\n",
      "[280]\tvalid_0's l2: 3.20201\tvalid_0's l1: 1.33875\n",
      "[281]\tvalid_0's l2: 3.19339\tvalid_0's l1: 1.33691\n",
      "[282]\tvalid_0's l2: 3.18384\tvalid_0's l1: 1.33503\n",
      "[283]\tvalid_0's l2: 3.17782\tvalid_0's l1: 1.33388\n",
      "[284]\tvalid_0's l2: 3.16954\tvalid_0's l1: 1.33218\n",
      "[285]\tvalid_0's l2: 3.16369\tvalid_0's l1: 1.3311\n",
      "[286]\tvalid_0's l2: 3.1552\tvalid_0's l1: 1.32923\n",
      "[287]\tvalid_0's l2: 3.14924\tvalid_0's l1: 1.32782\n",
      "[288]\tvalid_0's l2: 3.14074\tvalid_0's l1: 1.32591\n",
      "[289]\tvalid_0's l2: 3.13471\tvalid_0's l1: 1.32446\n",
      "[290]\tvalid_0's l2: 3.12754\tvalid_0's l1: 1.32309\n",
      "[291]\tvalid_0's l2: 3.11869\tvalid_0's l1: 1.32126\n",
      "[292]\tvalid_0's l2: 3.11168\tvalid_0's l1: 1.31953\n",
      "[293]\tvalid_0's l2: 3.10427\tvalid_0's l1: 1.31785\n",
      "[294]\tvalid_0's l2: 3.09594\tvalid_0's l1: 1.31605\n",
      "[295]\tvalid_0's l2: 3.08715\tvalid_0's l1: 1.31414\n",
      "[296]\tvalid_0's l2: 3.08071\tvalid_0's l1: 1.31257\n",
      "[297]\tvalid_0's l2: 3.07205\tvalid_0's l1: 1.31065\n",
      "[298]\tvalid_0's l2: 3.06576\tvalid_0's l1: 1.30928\n",
      "[299]\tvalid_0's l2: 3.05899\tvalid_0's l1: 1.30773\n",
      "[300]\tvalid_0's l2: 3.05248\tvalid_0's l1: 1.30628\n",
      "Did not meet early stopping. Best iteration is:\n",
      "[300]\tvalid_0's l2: 3.05248\tvalid_0's l1: 1.30628\n",
      "running time:  952.017924785614\n",
      "score:  0.15421235565947472\n"
     ]
    }
   ],
   "source": [
    "# model_param = {'lr': 0.1, 'depth': 10, 'tree': 400, 'leaf': 600, 'sample': 0.8, 'seed': 3}\n",
    "score = train_test(model_param, params, train_X_PM25, test_X_PM25, train_Y_PM25, test_Y_PM25, \"London/lightgbm_PM25.model\")\n",
    "print('score: ', score)"
   ]
  },
  {
   "cell_type": "code",
   "execution_count": 13,
   "metadata": {},
   "outputs": [
    {
     "data": {
      "text/plain": [
       "0.3012901336557956"
      ]
     },
     "execution_count": 13,
     "metadata": {},
     "output_type": "execute_result"
    }
   ],
   "source": [
    "gbm = read_pkl(\"London/lightgbm_PM25.model\")\n",
    "test_X = np.load(\"London/X_test.npy\")\n",
    "test_Y = np.load(\"London/Y_PM25_test.npy\")\n",
    "test_predict = gbm.predict(test_X)\n",
    "score = get_score(test_predict, test_Y)\n",
    "score"
   ]
  },
  {
   "cell_type": "code",
   "execution_count": 14,
   "metadata": {},
   "outputs": [
    {
     "data": {
      "image/png": "[encoded data removed]",
      "text/plain": [
       "<Figure size 432x288 with 1 Axes>"
      ]
     },
     "metadata": {
      "needs_background": "light"
     },
     "output_type": "display_data"
    }
   ],
   "source": [
    "%matplotlib inline\n",
    "import matplotlib.pyplot as plt\n",
    "ax = lgb.plot_importance(gbm, max_num_features=30)\n",
    "plt.show()"
   ]
  },
  {
   "cell_type": "code",
   "execution_count": null,
   "metadata": {},
   "outputs": [],
   "source": [
    "# model_param = {'lr': 0.1, 'depth': 10, 'tree': 400, 'leaf': 600, 'sample': 0.8, 'seed': 3}\n",
    "\n",
    "# score = train_test(model_param, params, train_X_PM25, test_X_PM25, train_Y_PM25, test_Y_PM25, \"London/lightgbm_PM25.model\")\n",
    "# print('score: ', score)"
   ]
  },
  {
   "cell_type": "code",
   "execution_count": 15,
   "metadata": {},
   "outputs": [],
   "source": [
    "# %matplotlib inline\n",
    "# import matplotlib.pyplot as plt\n",
    "# ax = lgb.plot_importance(gbm, max_num_features=20)\n",
    "# plt.show()"
   ]
  },
  {
   "cell_type": "code",
   "execution_count": null,
   "metadata": {},
   "outputs": [],
   "source": []
  },
  {
   "cell_type": "code",
   "execution_count": null,
   "metadata": {},
   "outputs": [],
   "source": [
    "# PM 10"
   ]
  },
  {
   "cell_type": "code",
   "execution_count": 16,
   "metadata": {},
   "outputs": [],
   "source": [
    "# split the Y_PM10, X into training part and testing part\n",
    "\n",
    "# train_X_PM10, test_X_PM10, train_Y_PM10, test_Y_PM10 = train_test_split(X, Y_PM10, test_size=0.2, random_state=11)\n",
    "# print(train_X_PM10.shape, test_X_PM10.shape, train_Y_PM10.shape, test_Y_PM10.shape)"
   ]
  },
  {
   "cell_type": "code",
   "execution_count": 17,
   "metadata": {},
   "outputs": [],
   "source": [
    "# train and test the lightgbm model with X and Y_PM10 data\n",
    "# save the model parameters into lightgbm_PM10.model\n",
    "# 48+ features and model_param = {'lr': 0.1, 'depth': 10, 'tree': 3000, 'leaf': 400, 'sample': 0.9, 'seed': 3}\n",
    "\n",
    "# score = train_test(model_param, params, train_X_PM10, test_X_PM10, train_Y_PM10, test_Y_PM10, \"London/lightgbm_PM10.model\")\n",
    "# print('score: ', score)"
   ]
  },
  {
   "cell_type": "code",
   "execution_count": 18,
   "metadata": {},
   "outputs": [],
   "source": [
    "# train and test the lightgbm model with X and Y_PM10 data\n",
    "# save the model parameters into lightgbm_PM10.model\n",
    "\n",
    "# model_param = {'lr': 0.01, 'depth': 10, 'tree': 3000, 'leaf': 400, 'sample': 0.9, 'seed': 3}\n",
    "# score = train_test(model_param, params, train_X_PM10, test_X_PM10, train_Y_PM10, test_Y_PM10, \"London/lightgbm_PM10.model\")\n",
    "# print('score: ', score)"
   ]
  },
  {
   "cell_type": "code",
   "execution_count": 19,
   "metadata": {},
   "outputs": [],
   "source": [
    "# model_param = {'lr': 0.02, 'depth': 10, 'tree': 3000, 'leaf': 400, 'sample': 0.9, 'seed': 3}\n",
    "# score = train_test(model_param, params, train_X_PM10, test_X_PM10, train_Y_PM10, test_Y_PM10, \"London/lightgbm_PM10.model\")\n",
    "# print('score: ', score)"
   ]
  },
  {
   "cell_type": "code",
   "execution_count": 20,
   "metadata": {},
   "outputs": [],
   "source": [
    "# model_param = {'lr': 0.01, 'depth': 10, 'tree': 10000, 'leaf': 400, 'sample': 0.9, 'seed': 3}\n",
    "# score = train_test(model_param, params, train_X_PM10, test_X_PM10, train_Y_PM10, test_Y_PM10, \"London/lightgbm_PM10.model\")\n",
    "# print('score: ', score)"
   ]
  },
  {
   "cell_type": "code",
   "execution_count": null,
   "metadata": {},
   "outputs": [],
   "source": []
  },
  {
   "cell_type": "code",
   "execution_count": 12,
   "metadata": {},
   "outputs": [],
   "source": [
    "# PM10_Concentration = train_X_PM10[:,1]\n",
    "# s = get_score(PM10_Concentration.reshape((PM10_Concentration.shape[0], 1)), train_Y_PM10)\n",
    "# print(s)\n",
    "\n",
    "# PM10_Concentration = test_X_PM10[:,1]\n",
    "# s = get_score(PM10_Concentration.reshape((PM10_Concentration.shape[0], 1)), test_Y_PM10)\n",
    "# print(s)"
   ]
  },
  {
   "cell_type": "code",
   "execution_count": null,
   "metadata": {},
   "outputs": [],
   "source": []
  },
  {
   "cell_type": "code",
   "execution_count": null,
   "metadata": {},
   "outputs": [],
   "source": [
    "# NO2"
   ]
  },
  {
   "cell_type": "code",
   "execution_count": 21,
   "metadata": {},
   "outputs": [],
   "source": [
    "# split the Y_NO2, X into training part and testing part\n",
    "\n",
    "# train_X_NO2, test_X_NO2, train_Y_NO2, test_Y_NO2 = train_test_split(X, Y_NO2, test_size=0.2, random_state=11)\n",
    "# print(train_X_NO2.shape, test_X_NO2.shape, train_Y_NO2.shape, test_Y_NO2.shape)"
   ]
  },
  {
   "cell_type": "code",
   "execution_count": 6,
   "metadata": {},
   "outputs": [],
   "source": [
    "# np.save(\"London/train_X_NO2_all.npy\", train_X_NO2)"
   ]
  },
  {
   "cell_type": "code",
   "execution_count": 7,
   "metadata": {},
   "outputs": [],
   "source": [
    "# np.save(\"London/test_X_NO2_all.npy\", test_X_NO2)"
   ]
  },
  {
   "cell_type": "code",
   "execution_count": 8,
   "metadata": {},
   "outputs": [],
   "source": [
    "# np.save(\"London/train_Y_NO2_all.npy\", train_Y_NO2)"
   ]
  },
  {
   "cell_type": "code",
   "execution_count": 9,
   "metadata": {},
   "outputs": [],
   "source": [
    "# np.save(\"London/test_Y_NO2_all.npy\", test_Y_NO2)"
   ]
  },
  {
   "cell_type": "code",
   "execution_count": 22,
   "metadata": {},
   "outputs": [],
   "source": [
    "# New model_param = {'lr': 0.02, 'depth': 10, 'tree': 3000, 'leaf': 400, 'sample': 0.9, 'seed': 3}\n",
    "# (5394355, 125)\n",
    "\n",
    "# score = train_test(model_param, params, train_X_NO2, test_X_NO2, train_Y_NO2, test_Y_NO2, \"London/lightgbm_NO2.model\")\n",
    "# print('score: ', score)"
   ]
  },
  {
   "cell_type": "code",
   "execution_count": 4,
   "metadata": {},
   "outputs": [],
   "source": [
    "# load the whole size dataset\n",
    "train_X_NO2 = np.load(\"London/train_X_NO2_all.npy\")\n",
    "test_X_NO2 = np.load(\"London/test_X_NO2_all.npy\")\n",
    "train_Y_NO2 = np.load(\"London/train_Y_NO2_all.npy\")\n",
    "test_Y_NO2 = np.load(\"London/test_Y_NO2_all.npy\")"
   ]
  },
  {
   "cell_type": "code",
   "execution_count": 23,
   "metadata": {},
   "outputs": [],
   "source": [
    "# New model_param = {'lr': 0.02, 'depth': 10, 'tree': 3000, 'leaf': 400, 'sample': 0.9, 'seed': 3}\n",
    "# (5370393, 241)\n",
    "\n",
    "# score = train_test(model_param, params, train_X_NO2, test_X_NO2, train_Y_NO2, test_Y_NO2, \"London/lightgbm_NO2.model\")\n",
    "# print('score: ', score)"
   ]
  },
  {
   "cell_type": "code",
   "execution_count": null,
   "metadata": {},
   "outputs": [],
   "source": []
  }
 ],
 "metadata": {
  "kernelspec": {
   "display_name": "img (py36)",
   "language": "python",
   "name": "img"
  },
  "language_info": {
   "codemirror_mode": {
    "name": "ipython",
    "version": 3
   },
   "file_extension": ".py",
   "mimetype": "text/x-python",
   "name": "python",
   "nbconvert_exporter": "python",
   "pygments_lexer": "ipython3",
   "version": "3.6.8"
  }
 },
 "nbformat": 4,
 "nbformat_minor": 2
}
