{
 "cells": [
  {
   "cell_type": "code",
   "execution_count": 2,
   "metadata": {},
   "outputs": [
    {
     "name": "stderr",
     "output_type": "stream",
     "text": [
      "Using TensorFlow backend.\n"
     ]
    }
   ],
   "source": [
    "#pip install keras\n",
    "#pip install TensorFlow\n",
    "import numpy as np\n",
    "from sklearn.model_selection import train_test_split\n",
    "from keras.models import Sequential\n",
    "from keras.layers import LSTM, Dense, Dropout, Masking, Embedding,Flatten,SimpleRNN"
   ]
  },
  {
   "cell_type": "code",
   "execution_count": 4,
   "metadata": {},
   "outputs": [],
   "source": [
    "X = np.load(\"London/X_s.npy\")#68106,125\n",
    "Y_PM25 = np.load(\"London/Y_PM25_s.npy\")\n",
    "X_test=np.load(\"London/X_test.npy\")\n",
    "Y_PM25_test = np.load(\"London/Y_PM25_test.npy\")"
   ]
  },
  {
   "cell_type": "code",
   "execution_count": 3,
   "metadata": {},
   "outputs": [],
   "source": [
    "def sigmoid(x, derivative=False):\n",
    "    sigm = 1 / (1 + np.exp(-x))\n",
    "    if derivative:\n",
    "        return sigm * (1. - sigm)\n",
    "    return sigm"
   ]
  },
  {
   "cell_type": "code",
   "execution_count": 4,
   "metadata": {},
   "outputs": [],
   "source": [
    "def get_score(pred, valid_y_exp):\n",
    "    return np.mean(np.abs(pred - valid_y_exp) / (pred + valid_y_exp) * 2)"
   ]
  },
  {
   "cell_type": "code",
   "execution_count": 5,
   "metadata": {},
   "outputs": [],
   "source": [
    "row=X.shape[0]\n",
    "colum=X.shape[1]"
   ]
  },
  {
   "cell_type": "markdown",
   "metadata": {},
   "source": [
    "# Nerual Network 1 Regression Prediction"
   ]
  },
  {
   "cell_type": "code",
   "execution_count": 15,
   "metadata": {},
   "outputs": [],
   "source": [
    "model = Sequential()\n",
    "model.add(Dense(64, input_dim=data_dim, activation='relu'))\n",
    "model.add(Dense(64, activation='relu'))\n",
    "model.add(Dense(1, activation='linear'))\n",
    "model.compile(loss='mse', optimizer='adam')\n"
   ]
  },
  {
   "cell_type": "code",
   "execution_count": 7,
   "metadata": {},
   "outputs": [
    {
     "name": "stdout",
     "output_type": "stream",
     "text": [
      "_________________________________________________________________\n",
      "Layer (type)                 Output Shape              Param #   \n",
      "=================================================================\n",
      "dense_1 (Dense)              (None, 64)                12736     \n",
      "_________________________________________________________________\n",
      "dense_2 (Dense)              (None, 64)                4160      \n",
      "_________________________________________________________________\n",
      "dense_3 (Dense)              (None, 1)                 65        \n",
      "=================================================================\n",
      "Total params: 16,961\n",
      "Trainable params: 16,961\n",
      "Non-trainable params: 0\n",
      "_________________________________________________________________\n",
      "None\n"
     ]
    }
   ],
   "source": [
    "print(model.summary())"
   ]
  },
  {
   "cell_type": "code",
   "execution_count": 8,
   "metadata": {},
   "outputs": [
    {
     "name": "stdout",
     "output_type": "stream",
     "text": [
      "WARNING:tensorflow:From D:\\Anaconda3\\lib\\site-packages\\tensorflow\\python\\ops\\math_ops.py:3066: to_int32 (from tensorflow.python.ops.math_ops) is deprecated and will be removed in a future version.\n",
      "Instructions for updating:\n",
      "Use tf.cast instead.\n",
      "Epoch 1/20\n",
      "71136/71136 [==============================] - 5s 74us/step - loss: 94.9432\n",
      "Epoch 2/20\n",
      "71136/71136 [==============================] - 3s 38us/step - loss: 75.6235\n",
      "Epoch 3/20\n",
      "71136/71136 [==============================] - 3s 37us/step - loss: 75.1263\n",
      "Epoch 4/20\n",
      "71136/71136 [==============================] - 3s 35us/step - loss: 75.8324\n",
      "Epoch 5/20\n",
      "71136/71136 [==============================] - 3s 42us/step - loss: 76.7589\n",
      "Epoch 6/20\n",
      "71136/71136 [==============================] - 2s 35us/step - loss: 77.2833\n",
      "Epoch 7/20\n",
      "71136/71136 [==============================] - 3s 39us/step - loss: 77.3351\n",
      "Epoch 8/20\n",
      "71136/71136 [==============================] - 3s 38us/step - loss: 77.2259\n",
      "Epoch 9/20\n",
      "71136/71136 [==============================] - 3s 41us/step - loss: 77.3438\n",
      "Epoch 10/20\n",
      "71136/71136 [==============================] - 3s 37us/step - loss: 77.4674\n",
      "Epoch 11/20\n",
      "71136/71136 [==============================] - 3s 41us/step - loss: 76.6706\n",
      "Epoch 12/20\n",
      "71136/71136 [==============================] - 3s 41us/step - loss: 76.6981\n",
      "Epoch 13/20\n",
      "71136/71136 [==============================] - 3s 36us/step - loss: 76.6633\n",
      "Epoch 14/20\n",
      "71136/71136 [==============================] - 2s 35us/step - loss: 75.9259\n",
      "Epoch 15/20\n",
      "71136/71136 [==============================] - 3s 38us/step - loss: 76.1565\n",
      "Epoch 16/20\n",
      "71136/71136 [==============================] - 2s 35us/step - loss: 76.6196\n",
      "Epoch 17/20\n",
      "71136/71136 [==============================] - 3s 40us/step - loss: 76.5006\n",
      "Epoch 18/20\n",
      "71136/71136 [==============================] - 3s 43us/step - loss: 76.4619\n",
      "Epoch 19/20\n",
      "71136/71136 [==============================] - 3s 39us/step - loss: 76.4589\n",
      "Epoch 20/20\n",
      "71136/71136 [==============================] - 3s 39us/step - loss: 76.4796\n"
     ]
    },
    {
     "data": {
      "text/plain": [
       "<keras.callbacks.History at 0x1e8425f1b38>"
      ]
     },
     "execution_count": 8,
     "metadata": {},
     "output_type": "execute_result"
    }
   ],
   "source": [
    "model.fit(sigmoid(X), Y_PM25,epochs=20,shuffle=False,batch_size=batch_size)"
   ]
  },
  {
   "cell_type": "code",
   "execution_count": 9,
   "metadata": {},
   "outputs": [
    {
     "name": "stdout",
     "output_type": "stream",
     "text": [
      "1082016/1082016 [==============================] - 9s 8us/step\n",
      "116.59413193114298\n"
     ]
    }
   ],
   "source": [
    "score = model.evaluate(sigmoid(X_test),Y_PM25_test, batch_size=batch_size)\n",
    "print(score)"
   ]
  },
  {
   "cell_type": "code",
   "execution_count": 10,
   "metadata": {},
   "outputs": [
    {
     "name": "stdout",
     "output_type": "stream",
     "text": [
      "0.5452009941365306\n"
     ]
    }
   ],
   "source": [
    "y_pre=model.predict(sigmoid(X_test))\n",
    "error=get_score(y_pre[:10000],Y_PM25_test[:10000])#use part of the data because Computer memory is insufficient\n",
    "print(error)"
   ]
  },
  {
   "cell_type": "markdown",
   "metadata": {},
   "source": [
    "## Nerual Network 2 LSTM"
   ]
  },
  {
   "cell_type": "code",
   "execution_count": 6,
   "metadata": {},
   "outputs": [
    {
     "name": "stdout",
     "output_type": "stream",
     "text": [
      "WARNING:tensorflow:From D:\\Anaconda3\\lib\\site-packages\\tensorflow\\python\\framework\\op_def_library.py:263: colocate_with (from tensorflow.python.framework.ops) is deprecated and will be removed in a future version.\n",
      "Instructions for updating:\n",
      "Colocations handled automatically by placer.\n",
      "WARNING:tensorflow:From D:\\Anaconda3\\lib\\site-packages\\keras\\backend\\tensorflow_backend.py:3445: calling dropout (from tensorflow.python.ops.nn_ops) with keep_prob is deprecated and will be removed in a future version.\n",
      "Instructions for updating:\n",
      "Please use `rate` instead of `keep_prob`. Rate should be set to `rate = 1 - keep_prob`.\n"
     ]
    }
   ],
   "source": [
    "model = Sequential()\n",
    "model.add(Embedding(input_dim=row,output_dim=48))\n",
    "model.add(LSTM(64,activation='relu'))#return_sequences=True))???will raise dimenson error\n",
    "model.add(Dropout(0.5))\n",
    "model.add(Dense(1, activation='linear'))\n",
    "model.compile(loss='mse',optimizer='adam')"
   ]
  },
  {
   "cell_type": "code",
   "execution_count": 7,
   "metadata": {},
   "outputs": [
    {
     "name": "stdout",
     "output_type": "stream",
     "text": [
      "_________________________________________________________________\n",
      "Layer (type)                 Output Shape              Param #   \n",
      "=================================================================\n",
      "embedding_1 (Embedding)      (None, None, 48)          3414528   \n",
      "_________________________________________________________________\n",
      "lstm_1 (LSTM)                (None, 64)                28928     \n",
      "_________________________________________________________________\n",
      "dropout_1 (Dropout)          (None, 64)                0         \n",
      "_________________________________________________________________\n",
      "dense_1 (Dense)              (None, 1)                 65        \n",
      "=================================================================\n",
      "Total params: 3,443,521\n",
      "Trainable params: 3,443,521\n",
      "Non-trainable params: 0\n",
      "_________________________________________________________________\n",
      "None\n"
     ]
    }
   ],
   "source": [
    "print(model.summary())"
   ]
  },
  {
   "cell_type": "code",
   "execution_count": null,
   "metadata": {},
   "outputs": [],
   "source": [
    "model.fit(sigmoid(X), Y_PM25,epochs=20,shuffle=False,batch_size=batch_size)"
   ]
  },
  {
   "cell_type": "code",
   "execution_count": null,
   "metadata": {},
   "outputs": [],
   "source": [
    "score = model.evaluate(sigmoid(X_test),Y_PM25_test, batch_size=batch_size)\n",
    "print(score)"
   ]
  },
  {
   "cell_type": "code",
   "execution_count": null,
   "metadata": {},
   "outputs": [],
   "source": [
    "y_pre=model.predict(sigmoid(X_test))\n",
    "error=get_score(y_pre[:10000],Y_PM25_test[:10000])#use part of the data because Computer memory is insufficient\n",
    "print(error)"
   ]
  },
  {
   "cell_type": "markdown",
   "metadata": {},
   "source": [
    "# Nerual Network 3 Simple RNN"
   ]
  },
  {
   "cell_type": "code",
   "execution_count": null,
   "metadata": {},
   "outputs": [],
   "source": [
    "model3 = Sequential()\n",
    "model2.add(Embedding(input_dim=row,output_dim=48))\n",
    "model3.add(SimpleRNN(64, activation='relu',batch_input_shape=(sample_dim,batch_size,colum)))\n",
    "model2.add(Dropout(0.5))\n",
    "model3.add(Dense(1, activation='relu'))\n",
    "model3.compile(loss='mse', optimizer='adam')"
   ]
  },
  {
   "cell_type": "code",
   "execution_count": null,
   "metadata": {},
   "outputs": [],
   "source": [
    "print(model.summary())"
   ]
  },
  {
   "cell_type": "code",
   "execution_count": null,
   "metadata": {},
   "outputs": [],
   "source": [
    "model.fit(sigmoid(X), Y_PM25,epochs=20,shuffle=False,batch_size=batch_size)"
   ]
  },
  {
   "cell_type": "code",
   "execution_count": null,
   "metadata": {},
   "outputs": [],
   "source": [
    "score = model.evaluate(sigmoid(X_test),Y_PM25_test, batch_size=batch_size)\n",
    "print(score)"
   ]
  },
  {
   "cell_type": "code",
   "execution_count": null,
   "metadata": {},
   "outputs": [],
   "source": [
    "y_pre=model.predict(sigmoid(X_test))\n",
    "error=get_score(y_pre[:10000],Y_PM25_test[:10000])#use part of the data because Computer memory is insufficient\n",
    "print(error)"
   ]
  }
 ],
 "metadata": {
  "kernelspec": {
   "display_name": "Python 3",
   "language": "python",
   "name": "python3"
  },
  "language_info": {
   "codemirror_mode": {
    "name": "ipython",
    "version": 3
   },
   "file_extension": ".py",
   "mimetype": "text/x-python",
   "name": "python",
   "nbconvert_exporter": "python",
   "pygments_lexer": "ipython3",
   "version": "3.7.3"
  }
 },
 "nbformat": 4,
 "nbformat_minor": 2
}
