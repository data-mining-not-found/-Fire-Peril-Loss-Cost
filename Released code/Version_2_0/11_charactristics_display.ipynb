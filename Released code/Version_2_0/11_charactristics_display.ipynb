{
 "cells": [
  {
   "cell_type": "code",
   "execution_count": 1,
   "metadata": {},
   "outputs": [],
   "source": [
    "import pickle\n",
    "import random\n",
    "import matplotlib.pyplot as plt\n",
    "import numpy as np\n",
    "import pandas as pd\n",
    "import seaborn as sns"
   ]
  },
  {
   "cell_type": "code",
   "execution_count": 2,
   "metadata": {},
   "outputs": [],
   "source": [
    "file = open('London/station_final.pkl','rb')\n",
    "station_data = pickle.load(file)\n",
    "file.close()"
   ]
  },
  {
   "cell_type": "code",
   "execution_count": 17,
   "metadata": {},
   "outputs": [
    {
     "data": {
      "text/html": [
       "<div>\n",
       "<style scoped>\n",
       "    .dataframe tbody tr th:only-of-type {\n",
       "        vertical-align: middle;\n",
       "    }\n",
       "\n",
       "    .dataframe tbody tr th {\n",
       "        vertical-align: top;\n",
       "    }\n",
       "\n",
       "    .dataframe thead th {\n",
       "        text-align: right;\n",
       "    }\n",
       "</style>\n",
       "<table border=\"1\" class=\"dataframe\">\n",
       "  <thead>\n",
       "    <tr style=\"text-align: right;\">\n",
       "      <th></th>\n",
       "      <th>station_id</th>\n",
       "      <th>PM25_Concentration</th>\n",
       "      <th>PM10_Concentration</th>\n",
       "      <th>NO2_Concentration</th>\n",
       "      <th>time_year</th>\n",
       "      <th>time_month</th>\n",
       "      <th>time_week</th>\n",
       "      <th>time_day</th>\n",
       "      <th>time_hour</th>\n",
       "      <th>temperature</th>\n",
       "      <th>...</th>\n",
       "      <th>holiday</th>\n",
       "      <th>station_index</th>\n",
       "      <th>pressure_temperature</th>\n",
       "      <th>temperature_humidity</th>\n",
       "      <th>PM</th>\n",
       "      <th>PM25_10</th>\n",
       "      <th>mean_PM25</th>\n",
       "      <th>mean_PM10</th>\n",
       "      <th>mean_NO2</th>\n",
       "      <th>mean_temperature</th>\n",
       "    </tr>\n",
       "    <tr>\n",
       "      <th>time</th>\n",
       "      <th></th>\n",
       "      <th></th>\n",
       "      <th></th>\n",
       "      <th></th>\n",
       "      <th></th>\n",
       "      <th></th>\n",
       "      <th></th>\n",
       "      <th></th>\n",
       "      <th></th>\n",
       "      <th></th>\n",
       "      <th></th>\n",
       "      <th></th>\n",
       "      <th></th>\n",
       "      <th></th>\n",
       "      <th></th>\n",
       "      <th></th>\n",
       "      <th></th>\n",
       "      <th></th>\n",
       "      <th></th>\n",
       "      <th></th>\n",
       "      <th></th>\n",
       "    </tr>\n",
       "  </thead>\n",
       "  <tbody>\n",
       "    <tr>\n",
       "      <th>2017-01-01 00:00:00</th>\n",
       "      <td>BL0</td>\n",
       "      <td>30.8</td>\n",
       "      <td>31.6</td>\n",
       "      <td>10.8</td>\n",
       "      <td>2017.0</td>\n",
       "      <td>1.0</td>\n",
       "      <td>6.0</td>\n",
       "      <td>1.0</td>\n",
       "      <td>0.0</td>\n",
       "      <td>5.80</td>\n",
       "      <td>...</td>\n",
       "      <td>2</td>\n",
       "      <td>6</td>\n",
       "      <td>5915.5940</td>\n",
       "      <td>0.063464</td>\n",
       "      <td>62.4</td>\n",
       "      <td>0.974375</td>\n",
       "      <td>0.0</td>\n",
       "      <td>0.0</td>\n",
       "      <td>0.0</td>\n",
       "      <td>0.0</td>\n",
       "    </tr>\n",
       "    <tr>\n",
       "      <th>2017-01-01 01:00:00</th>\n",
       "      <td>BL0</td>\n",
       "      <td>22.9</td>\n",
       "      <td>34.6</td>\n",
       "      <td>17.3</td>\n",
       "      <td>2017.0</td>\n",
       "      <td>1.0</td>\n",
       "      <td>6.0</td>\n",
       "      <td>1.0</td>\n",
       "      <td>1.0</td>\n",
       "      <td>5.84</td>\n",
       "      <td>...</td>\n",
       "      <td>2</td>\n",
       "      <td>6</td>\n",
       "      <td>5949.3832</td>\n",
       "      <td>0.064911</td>\n",
       "      <td>57.5</td>\n",
       "      <td>0.661658</td>\n",
       "      <td>0.0</td>\n",
       "      <td>0.0</td>\n",
       "      <td>0.0</td>\n",
       "      <td>0.0</td>\n",
       "    </tr>\n",
       "    <tr>\n",
       "      <th>2017-01-01 02:00:00</th>\n",
       "      <td>BL0</td>\n",
       "      <td>18.4</td>\n",
       "      <td>25.2</td>\n",
       "      <td>14.2</td>\n",
       "      <td>2017.0</td>\n",
       "      <td>1.0</td>\n",
       "      <td>6.0</td>\n",
       "      <td>1.0</td>\n",
       "      <td>2.0</td>\n",
       "      <td>5.89</td>\n",
       "      <td>...</td>\n",
       "      <td>2</td>\n",
       "      <td>6</td>\n",
       "      <td>5993.2517</td>\n",
       "      <td>0.066516</td>\n",
       "      <td>43.6</td>\n",
       "      <td>0.729869</td>\n",
       "      <td>0.0</td>\n",
       "      <td>0.0</td>\n",
       "      <td>0.0</td>\n",
       "      <td>0.0</td>\n",
       "    </tr>\n",
       "    <tr>\n",
       "      <th>2017-01-01 03:00:00</th>\n",
       "      <td>BL0</td>\n",
       "      <td>19.5</td>\n",
       "      <td>24.0</td>\n",
       "      <td>14.8</td>\n",
       "      <td>2017.0</td>\n",
       "      <td>1.0</td>\n",
       "      <td>6.0</td>\n",
       "      <td>1.0</td>\n",
       "      <td>3.0</td>\n",
       "      <td>5.93</td>\n",
       "      <td>...</td>\n",
       "      <td>2</td>\n",
       "      <td>6</td>\n",
       "      <td>6026.8369</td>\n",
       "      <td>0.068059</td>\n",
       "      <td>43.5</td>\n",
       "      <td>0.812162</td>\n",
       "      <td>0.0</td>\n",
       "      <td>0.0</td>\n",
       "      <td>0.0</td>\n",
       "      <td>0.0</td>\n",
       "    </tr>\n",
       "    <tr>\n",
       "      <th>2017-01-01 04:00:00</th>\n",
       "      <td>BL0</td>\n",
       "      <td>22.1</td>\n",
       "      <td>26.7</td>\n",
       "      <td>16.7</td>\n",
       "      <td>2017.0</td>\n",
       "      <td>1.0</td>\n",
       "      <td>6.0</td>\n",
       "      <td>1.0</td>\n",
       "      <td>4.0</td>\n",
       "      <td>6.12</td>\n",
       "      <td>...</td>\n",
       "      <td>2</td>\n",
       "      <td>6</td>\n",
       "      <td>6214.1256</td>\n",
       "      <td>0.069903</td>\n",
       "      <td>48.8</td>\n",
       "      <td>0.827405</td>\n",
       "      <td>0.0</td>\n",
       "      <td>0.0</td>\n",
       "      <td>0.0</td>\n",
       "      <td>0.0</td>\n",
       "    </tr>\n",
       "  </tbody>\n",
       "</table>\n",
       "<p>5 rows × 24 columns</p>\n",
       "</div>"
      ],
      "text/plain": [
       "                    station_id  PM25_Concentration  PM10_Concentration  \\\n",
       "time                                                                     \n",
       "2017-01-01 00:00:00        BL0                30.8                31.6   \n",
       "2017-01-01 01:00:00        BL0                22.9                34.6   \n",
       "2017-01-01 02:00:00        BL0                18.4                25.2   \n",
       "2017-01-01 03:00:00        BL0                19.5                24.0   \n",
       "2017-01-01 04:00:00        BL0                22.1                26.7   \n",
       "\n",
       "                     NO2_Concentration  time_year  time_month  time_week  \\\n",
       "time                                                                       \n",
       "2017-01-01 00:00:00               10.8     2017.0         1.0        6.0   \n",
       "2017-01-01 01:00:00               17.3     2017.0         1.0        6.0   \n",
       "2017-01-01 02:00:00               14.2     2017.0         1.0        6.0   \n",
       "2017-01-01 03:00:00               14.8     2017.0         1.0        6.0   \n",
       "2017-01-01 04:00:00               16.7     2017.0         1.0        6.0   \n",
       "\n",
       "                     time_day  time_hour  temperature  ...  holiday  \\\n",
       "time                                                   ...            \n",
       "2017-01-01 00:00:00       1.0        0.0         5.80  ...        2   \n",
       "2017-01-01 01:00:00       1.0        1.0         5.84  ...        2   \n",
       "2017-01-01 02:00:00       1.0        2.0         5.89  ...        2   \n",
       "2017-01-01 03:00:00       1.0        3.0         5.93  ...        2   \n",
       "2017-01-01 04:00:00       1.0        4.0         6.12  ...        2   \n",
       "\n",
       "                     station_index  pressure_temperature  \\\n",
       "time                                                       \n",
       "2017-01-01 00:00:00              6             5915.5940   \n",
       "2017-01-01 01:00:00              6             5949.3832   \n",
       "2017-01-01 02:00:00              6             5993.2517   \n",
       "2017-01-01 03:00:00              6             6026.8369   \n",
       "2017-01-01 04:00:00              6             6214.1256   \n",
       "\n",
       "                     temperature_humidity    PM   PM25_10  mean_PM25  \\\n",
       "time                                                                   \n",
       "2017-01-01 00:00:00              0.063464  62.4  0.974375        0.0   \n",
       "2017-01-01 01:00:00              0.064911  57.5  0.661658        0.0   \n",
       "2017-01-01 02:00:00              0.066516  43.6  0.729869        0.0   \n",
       "2017-01-01 03:00:00              0.068059  43.5  0.812162        0.0   \n",
       "2017-01-01 04:00:00              0.069903  48.8  0.827405        0.0   \n",
       "\n",
       "                     mean_PM10  mean_NO2  mean_temperature  \n",
       "time                                                        \n",
       "2017-01-01 00:00:00        0.0       0.0               0.0  \n",
       "2017-01-01 01:00:00        0.0       0.0               0.0  \n",
       "2017-01-01 02:00:00        0.0       0.0               0.0  \n",
       "2017-01-01 03:00:00        0.0       0.0               0.0  \n",
       "2017-01-01 04:00:00        0.0       0.0               0.0  \n",
       "\n",
       "[5 rows x 24 columns]"
      ]
     },
     "execution_count": 17,
     "metadata": {},
     "output_type": "execute_result"
    }
   ],
   "source": [
    "station_data[\"BL0\"].iloc[0:5, 0:24]"
   ]
  },
  {
   "cell_type": "code",
   "execution_count": 10,
   "metadata": {},
   "outputs": [],
   "source": [
    "pm25_all = []\n",
    "pm10_all = []\n",
    "no2_all = []\n",
    "p_t_all = []\n",
    "t_h_all = []"
   ]
  },
  {
   "cell_type": "code",
   "execution_count": 11,
   "metadata": {},
   "outputs": [],
   "source": [
    "for x in station_data:\n",
    "    for index, row in station_data[x].iterrows():\n",
    "            pm25_all.append(abs(row[\"PM25_Concentration\"]))\n",
    "            pm10_all.append(abs(row[\"PM10_Concentration\"]))\n",
    "            no2_all.append(abs(row[\"NO2_Concentration\"]))\n",
    "            p_t_all.append(row[\"pressure_temperature\"])\n",
    "            t_h_all.append(row[\"temperature_humidity\"])\n"
   ]
  },
  {
   "cell_type": "code",
   "execution_count": 12,
   "metadata": {},
   "outputs": [],
   "source": [
    "PT_TH_pollu_rela = pd.DataFrame({\n",
    "    'Pressure_Temperature': p_t_all,\n",
    "    'Temperature_Humidity': t_h_all,\n",
    "    'PM2.5': pm25_all,\n",
    "    'PM10': pm10_all,\n",
    "    'NO2': no2_all\n",
    "})\n",
    "PT_TH_pollu_corr = PT_TH_pollu_rela.corr()"
   ]
  },
  {
   "cell_type": "code",
   "execution_count": 13,
   "metadata": {},
   "outputs": [
    {
     "data": {
      "image/png": "[encoded data removed]",
      "text/plain": [
       "<Figure size 432x288 with 2 Axes>"
      ]
     },
     "metadata": {
      "needs_background": "light"
     },
     "output_type": "display_data"
    }
   ],
   "source": [
    "sns.heatmap(PT_TH_pollu_corr, center=0, annot=True)\n",
    "plt.title(\"Feature Relation\")\n",
    "plt.show()"
   ]
  },
  {
   "cell_type": "code",
   "execution_count": 65,
   "metadata": {},
   "outputs": [
    {
     "data": {
      "text/plain": [
       "(array([1.15155e+05, 8.54130e+04, 2.24580e+04, 4.47200e+03, 1.11700e+03,\n",
       "        1.89000e+02, 2.50000e+01, 4.00000e+00, 2.00000e+00, 2.00000e+00]),\n",
       " array([  0.  ,  33.61,  67.22, 100.83, 134.44, 168.05, 201.66, 235.27,\n",
       "        268.88, 302.49, 336.1 ]),\n",
       " <a list of 10 Patch objects>)"
      ]
     },
     "execution_count": 65,
     "metadata": {},
     "output_type": "execute_result"
    },
    {
     "data": {
      "image/png": "[encoded data removed]",
      "text/plain": [
       "<Figure size 720x720 with 3 Axes>"
      ]
     },
     "metadata": {
      "needs_background": "light"
     },
     "output_type": "display_data"
    }
   ],
   "source": [
    "fig = plt.figure(figsize=(10,10))\n",
    "\n",
    "ax1 = fig.add_subplot(221)\n",
    "ax1.hist(pm25_all,  bins=10, log=True)\n",
    "\n",
    "ax2 = fig.add_subplot(222)\n",
    "ax2.hist(pm10_all, bins=10, log=True, stacked=True)\n",
    "\n",
    "ax3 = fig.add_subplot(223)\n",
    "ax3.hist(no2_all, bins=10, log=True, stacked=True)\n"
   ]
  },
  {
   "cell_type": "code",
   "execution_count": 66,
   "metadata": {},
   "outputs": [],
   "source": [
    "\n",
    "# wind direct changing frequency\n",
    "\n",
    "#while wind direct change 15 degree, we consider the direct have changed.\n",
    "change_lim = 15\n",
    "wind_speed_all = []\n",
    "wind_direct_all = []"
   ]
  },
  {
   "cell_type": "code",
   "execution_count": 67,
   "metadata": {},
   "outputs": [],
   "source": [
    "for x in station_data:\n",
    "    for index, row in station_data[x].iterrows():\n",
    "        wind_speed_all.append(row[\"wind_speed\"])\n",
    "        wind_direct_all.append(row[\"wind_direction\"])\n",
    "        "
   ]
  },
  {
   "cell_type": "code",
   "execution_count": 68,
   "metadata": {},
   "outputs": [],
   "source": [
    "wind_dir_change_freq = []\n"
   ]
  },
  {
   "cell_type": "code",
   "execution_count": null,
   "metadata": {},
   "outputs": [],
   "source": []
  }
 ],
 "metadata": {
  "kernelspec": {
   "display_name": "python3.6.5",
   "language": "python",
   "name": "python3.6.5"
  },
  "language_info": {
   "codemirror_mode": {
    "name": "ipython",
    "version": 3
   },
   "file_extension": ".py",
   "mimetype": "text/x-python",
   "name": "python",
   "nbconvert_exporter": "python",
   "pygments_lexer": "ipython3",
   "version": "3.6.5"
  }
 },
 "nbformat": 4,
 "nbformat_minor": 2
}
