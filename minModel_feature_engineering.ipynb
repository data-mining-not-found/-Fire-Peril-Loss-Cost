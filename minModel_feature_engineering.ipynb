{
 "cells": [
  {
   "cell_type": "code",
   "execution_count": 3,
   "metadata": {},
   "outputs": [],
   "source": [
    "import requests\n",
    "import pandas as pd\n",
    "import numpy as np\n",
    "import pickle"
   ]
  },
  {
   "cell_type": "code",
   "execution_count": 40,
   "metadata": {},
   "outputs": [
    {
     "data": {
      "text/html": [
       "<div>\n",
       "<style scoped>\n",
       "    .dataframe tbody tr th:only-of-type {\n",
       "        vertical-align: middle;\n",
       "    }\n",
       "\n",
       "    .dataframe tbody tr th {\n",
       "        vertical-align: top;\n",
       "    }\n",
       "\n",
       "    .dataframe thead th {\n",
       "        text-align: right;\n",
       "    }\n",
       "</style>\n",
       "<table border=\"1\" class=\"dataframe\">\n",
       "  <thead>\n",
       "    <tr style=\"text-align: right;\">\n",
       "      <th></th>\n",
       "      <th>stationName</th>\n",
       "      <th>longitude</th>\n",
       "      <th>latitude</th>\n",
       "      <th>time</th>\n",
       "      <th>temperature</th>\n",
       "      <th>pressure</th>\n",
       "      <th>humidity</th>\n",
       "      <th>wind_direction</th>\n",
       "      <th>wind_speed</th>\n",
       "    </tr>\n",
       "    <tr>\n",
       "      <th>time</th>\n",
       "      <th></th>\n",
       "      <th></th>\n",
       "      <th></th>\n",
       "      <th></th>\n",
       "      <th></th>\n",
       "      <th></th>\n",
       "      <th></th>\n",
       "      <th></th>\n",
       "      <th></th>\n",
       "    </tr>\n",
       "  </thead>\n",
       "  <tbody>\n",
       "    <tr>\n",
       "      <th>2018-03-27 05:00:00</th>\n",
       "      <td>london_grid_858</td>\n",
       "      <td>2.0</td>\n",
       "      <td>52.3</td>\n",
       "      <td>2018-03-27 05:00:00</td>\n",
       "      <td>6.91</td>\n",
       "      <td>1011.01</td>\n",
       "      <td>85.91</td>\n",
       "      <td>189.05</td>\n",
       "      <td>25.75</td>\n",
       "    </tr>\n",
       "    <tr>\n",
       "      <th>2018-03-27 05:00:00</th>\n",
       "      <td>london_grid_859</td>\n",
       "      <td>2.0</td>\n",
       "      <td>52.4</td>\n",
       "      <td>2018-03-27 05:00:00</td>\n",
       "      <td>6.79</td>\n",
       "      <td>1010.92</td>\n",
       "      <td>85.94</td>\n",
       "      <td>188.15</td>\n",
       "      <td>24.79</td>\n",
       "    </tr>\n",
       "    <tr>\n",
       "      <th>2018-03-27 05:00:00</th>\n",
       "      <td>london_grid_860</td>\n",
       "      <td>2.0</td>\n",
       "      <td>52.5</td>\n",
       "      <td>2018-03-27 05:00:00</td>\n",
       "      <td>6.74</td>\n",
       "      <td>1010.89</td>\n",
       "      <td>85.95</td>\n",
       "      <td>187.84</td>\n",
       "      <td>24.47</td>\n",
       "    </tr>\n",
       "  </tbody>\n",
       "</table>\n",
       "</div>"
      ],
      "text/plain": [
       "                         stationName  longitude  latitude                time  \\\n",
       "time                                                                            \n",
       "2018-03-27 05:00:00  london_grid_858        2.0      52.3 2018-03-27 05:00:00   \n",
       "2018-03-27 05:00:00  london_grid_859        2.0      52.4 2018-03-27 05:00:00   \n",
       "2018-03-27 05:00:00  london_grid_860        2.0      52.5 2018-03-27 05:00:00   \n",
       "\n",
       "                     temperature  pressure  humidity  wind_direction  \\\n",
       "time                                                                   \n",
       "2018-03-27 05:00:00         6.91   1011.01     85.91          189.05   \n",
       "2018-03-27 05:00:00         6.79   1010.92     85.94          188.15   \n",
       "2018-03-27 05:00:00         6.74   1010.89     85.95          187.84   \n",
       "\n",
       "                     wind_speed  \n",
       "time                             \n",
       "2018-03-27 05:00:00       25.75  \n",
       "2018-03-27 05:00:00       24.79  \n",
       "2018-03-27 05:00:00       24.47  "
      ]
     },
     "execution_count": 40,
     "metadata": {},
     "output_type": "execute_result"
    }
   ],
   "source": [
    "df = pd.read_csv(\"London/London_historical_meo_grid.csv\")\n",
    "df.rename(columns={'utc_time': 'time',\n",
    "                   'wind_speed/kph': 'wind_speed'\n",
    "                  }, inplace=True)\n",
    "df['time'] = pd.to_datetime(df['time'])\n",
    "df.index = df['time']\n",
    "df = df.sort_index()\n",
    "group = df.groupby(\"stationName\")\n",
    "meo_group = {}\n",
    "for name, g in group:\n",
    "    meo_group[name] = g.sort_index()\n",
    "f3 = open(\"London/meo_train.pkl\",\"wb\")\n",
    "pickle.dump(meo_group, f3, True)\n",
    "f3.close()\n",
    "df.tail(3)"
   ]
  },
  {
   "cell_type": "code",
   "execution_count": null,
   "metadata": {},
   "outputs": [],
   "source": [
    "f3 = open(\"London/meo_train.pkl\",\"rb\")\n",
    "meo_group = pickle.load(f3)"
   ]
  },
  {
   "cell_type": "code",
   "execution_count": 36,
   "metadata": {},
   "outputs": [],
   "source": [
    "nearst = {\n",
    "    'GB0': 'london_grid_451', 'CD1': 'london_grid_388', 'HV1': 'london_grid_472', 'CD9': 'london_grid_409',\n",
    "    'TD5': 'london_grid_366', 'GR4': 'london_grid_451', 'RB7': 'london_grid_452', 'TH4': 'london_grid_430',\n",
    "    'HR1': 'london_grid_368', 'BL0': 'london_grid_409', 'GR9': 'london_grid_430', 'ST5': 'london_grid_408',\n",
    "    'LH0': 'london_grid_346', 'KF1': 'london_grid_388', 'MY7': 'london_grid_388', 'LW2': 'london_grid_430',\n",
    "    'GN3': 'london_grid_451', 'GN0': 'london_grid_451', 'CT3': 'london_grid_409', 'CR8': 'london_grid_408',\n",
    "    'BX1': 'london_grid_472' # ,'CT2': 'london_grid_409'\n",
    "}"
   ]
  },
  {
   "cell_type": "code",
   "execution_count": 6,
   "metadata": {},
   "outputs": [],
   "source": [
    "f1 = open(\"London/air_processing.pkl\",\"rb\")\n",
    "station_group = pickle.load(f1)\n",
    "# for name in station_group:\n",
    "#     print(station_group[name])\n",
    "f2 = open(\"London/station_processing.pkl\",\"rb\")\n",
    "station_position = pickle.load(f2)\n",
    "# station_position"
   ]
  },
  {
   "cell_type": "code",
   "execution_count": 52,
   "metadata": {},
   "outputs": [
    {
     "name": "stdout",
     "output_type": "stream",
     "text": [
      "BL0\n",
      "BX1\n",
      "CD1\n",
      "CD9\n",
      "CR8\n",
      "CT3\n",
      "GB0\n",
      "GN0\n",
      "GN3\n",
      "GR4\n",
      "GR9\n",
      "HR1\n",
      "HV1\n",
      "KF1\n",
      "LH0\n",
      "LW2\n",
      "MY7\n",
      "RB7\n",
      "ST5\n",
      "TD5\n",
      "TH4\n"
     ]
    }
   ],
   "source": [
    "# merge the station_group value and the weather situation in air station points together\n",
    "attr_need = [\"temperature\", \"pressure\", \"humidity\", \"wind_direction\", \"wind_speed\"]\n",
    "for name in station_group:\n",
    "    print(name)\n",
    "    grid_id = nearst[name]\n",
    "    for attr in attr_need:\n",
    "        keep_values = meo_group[grid_id][attr].values\n",
    "        station_group[name][attr] = keep_values\n",
    "    # print(station_group[name])"
   ]
  },
  {
   "cell_type": "code",
   "execution_count": 75,
   "metadata": {},
   "outputs": [
    {
     "name": "stdout",
     "output_type": "stream",
     "text": [
      "BL0\n",
      "BX1\n",
      "CD1\n",
      "CD9\n",
      "CR8\n",
      "CT3\n",
      "GB0\n",
      "GN0\n",
      "GN3\n",
      "GR4\n",
      "GR9\n",
      "HR1\n",
      "HV1\n",
      "KF1\n",
      "LH0\n",
      "LW2\n",
      "MY7\n",
      "RB7\n",
      "ST5\n",
      "TD5\n",
      "TH4\n"
     ]
    }
   ],
   "source": [
    "# merge the station_group value and the holiday situation in air station points together\n",
    "df_h = pd.read_csv(\"London/holiday_ld.csv\")\n",
    "holiday_dict = {}\n",
    "date_list = df_h['date'].values\n",
    "holiday_list = df_h['holiday'].values\n",
    "for i in range(len(date_list)):\n",
    "    holiday_dict[str(date_list[i])] = holiday_list[i]\n",
    "for name in station_group:\n",
    "    print(name)\n",
    "    time_list = station_group[name].index.values\n",
    "    temp_list = []\n",
    "    for time in time_list:\n",
    "        time = str(time)\n",
    "        date = time[:4]+time[5:7]+time[8:10]\n",
    "        temp_list.append(holiday_dict[date])\n",
    "    station_group[name]['holiday'] = temp_list\n",
    "#     print(station_group[name])"
   ]
  },
  {
   "cell_type": "code",
   "execution_count": 76,
   "metadata": {},
   "outputs": [],
   "source": [
    "f4 = open(\"London/station_train.pkl\",\"wb\")\n",
    "pickle.dump(station_group, f4, True)\n",
    "f4.close()"
   ]
  },
  {
   "cell_type": "code",
   "execution_count": 4,
   "metadata": {},
   "outputs": [],
   "source": [
    "f4 = open(\"London/station_train.pkl\",\"rb\")\n",
    "station_group = pickle.load(f4)"
   ]
  },
  {
   "cell_type": "code",
   "execution_count": 1,
   "metadata": {},
   "outputs": [],
   "source": [
    "from sklearn.model_selection import train_test_split"
   ]
  },
  {
   "cell_type": "code",
   "execution_count": null,
   "metadata": {},
   "outputs": [],
   "source": [
    "# add features and feature engineering"
   ]
  },
  {
   "cell_type": "code",
   "execution_count": null,
   "metadata": {},
   "outputs": [],
   "source": [
    "# create the whole data which combines Y (pollutions or differ_pollutions in the future 48 hours) and X (flatten features)\n",
    "# convert the whole data into numpy\n",
    "for name in station_group:\n",
    "    print(name)\n",
    "    PM25_list = station_group[name]['PM25_Concentration'].values\n",
    "    PM10_list = station_group[name]['PM10_Concentration'].values\n",
    "    NO2_list = station_group[name]['NO2_Concentration'].values\n",
    "#     Y = #PM25_list[k1:K+49]"
   ]
  },
  {
   "cell_type": "code",
   "execution_count": null,
   "metadata": {},
   "outputs": [],
   "source": [
    "# split the whole data into train and test"
   ]
  },
  {
   "cell_type": "code",
   "execution_count": null,
   "metadata": {},
   "outputs": [],
   "source": []
  },
  {
   "cell_type": "code",
   "execution_count": 7,
   "metadata": {},
   "outputs": [],
   "source": [
    "# station_group['ST5']"
   ]
  },
  {
   "cell_type": "code",
   "execution_count": null,
   "metadata": {},
   "outputs": [],
   "source": []
  }
 ],
 "metadata": {
  "kernelspec": {
   "display_name": "img (py36)",
   "language": "python",
   "name": "img"
  },
  "language_info": {
   "codemirror_mode": {
    "name": "ipython",
    "version": 3
   },
   "file_extension": ".py",
   "mimetype": "text/x-python",
   "name": "python",
   "nbconvert_exporter": "python",
   "pygments_lexer": "ipython3",
   "version": "3.6.8"
  }
 },
 "nbformat": 4,
 "nbformat_minor": 2
}
